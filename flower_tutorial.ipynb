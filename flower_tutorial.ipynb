{
  "cells": [
    {
      "cell_type": "markdown",
      "metadata": {
        "id": "cz71fPGrpRiQ"
      },
      "source": [
        "# Intro to Federated Learning with Flower and scikit-learn\n",
        "\n",
        "Alex Kyllo 2022-10-29\n",
        "\n",
        "In this notebook, we'll build a simulated federated learning system using Flower\n",
        "and scikit-learn.\n",
        "\n",
        "In a production FL environment, you would have a central server communicating\n",
        "with many clients on different machines (like smartphones) over the network, but\n",
        "Flower provides a simulation framework so that you can run a whole FL environment\n",
        "locally, even in a Jupyter notebook like this.\n",
        "\n",
        "Let's get started! 🌻"
      ]
    },
    {
      "cell_type": "markdown",
      "metadata": {
        "id": "mBu1HRRY6bwX"
      },
      "source": [
        "## Part 0: Setup\n"
      ]
    },
    {
      "cell_type": "markdown",
      "metadata": {
        "id": "D4KiTMTpiort"
      },
      "source": [
        "### Installing dependencies\n",
        "\n",
        "First, let's install Python packages we need to run the notebook:"
      ]
    },
    {
      "cell_type": "code",
      "execution_count": 97,
      "metadata": {
        "id": "eTrCL2FmC5U5"
      },
      "outputs": [
        {
          "name": "stdout",
          "output_type": "stream",
          "text": [
            "Requirement already satisfied: flwr[simulation] in /home/alex/.pyenv/versions/3.10.2/lib/python3.10/site-packages (1.0.0)\n",
            "Requirement already satisfied: scikit-learn in /home/alex/.pyenv/versions/3.10.2/lib/python3.10/site-packages (1.1.3)\n",
            "Requirement already satisfied: matplotlib in /home/alex/.pyenv/versions/3.10.2/lib/python3.10/site-packages (3.5.2)\n",
            "Collecting tqdm\n",
            "  Using cached tqdm-4.64.1-py2.py3-none-any.whl (78 kB)\n",
            "Requirement already satisfied: grpcio<2.0.0,>=1.43.0 in /home/alex/.pyenv/versions/3.10.2/lib/python3.10/site-packages (from flwr[simulation]) (1.43.0)\n",
            "Requirement already satisfied: iterators<0.0.3,>=0.0.2 in /home/alex/.pyenv/versions/3.10.2/lib/python3.10/site-packages (from flwr[simulation]) (0.0.2)\n",
            "Requirement already satisfied: protobuf<4.0.0,>=3.19.0 in /home/alex/.pyenv/versions/3.10.2/lib/python3.10/site-packages (from flwr[simulation]) (3.20.3)\n",
            "Requirement already satisfied: numpy<2.0.0,>=1.21.0 in /home/alex/.pyenv/versions/3.10.2/lib/python3.10/site-packages (from flwr[simulation]) (1.22.3)\n",
            "Requirement already satisfied: ray[default]<1.14.0,>=1.13.0 in /home/alex/.pyenv/versions/3.10.2/lib/python3.10/site-packages (from flwr[simulation]) (1.13.0)\n",
            "Requirement already satisfied: joblib>=1.0.0 in /home/alex/.pyenv/versions/3.10.2/lib/python3.10/site-packages (from scikit-learn) (1.2.0)\n",
            "Requirement already satisfied: scipy>=1.3.2 in /home/alex/.pyenv/versions/3.10.2/lib/python3.10/site-packages (from scikit-learn) (1.9.3)\n",
            "Requirement already satisfied: threadpoolctl>=2.0.0 in /home/alex/.pyenv/versions/3.10.2/lib/python3.10/site-packages (from scikit-learn) (3.1.0)\n",
            "Requirement already satisfied: python-dateutil>=2.7 in /home/alex/.pyenv/versions/3.10.2/lib/python3.10/site-packages (from matplotlib) (2.8.2)\n",
            "Requirement already satisfied: pillow>=6.2.0 in /home/alex/.pyenv/versions/3.10.2/lib/python3.10/site-packages (from matplotlib) (9.1.1)\n",
            "Requirement already satisfied: packaging>=20.0 in /home/alex/.pyenv/versions/3.10.2/lib/python3.10/site-packages (from matplotlib) (21.3)\n",
            "Requirement already satisfied: pyparsing>=2.2.1 in /home/alex/.pyenv/versions/3.10.2/lib/python3.10/site-packages (from matplotlib) (3.0.7)\n",
            "Requirement already satisfied: cycler>=0.10 in /home/alex/.pyenv/versions/3.10.2/lib/python3.10/site-packages (from matplotlib) (0.11.0)\n",
            "Requirement already satisfied: fonttools>=4.22.0 in /home/alex/.pyenv/versions/3.10.2/lib/python3.10/site-packages (from matplotlib) (4.33.3)\n",
            "Requirement already satisfied: kiwisolver>=1.0.1 in /home/alex/.pyenv/versions/3.10.2/lib/python3.10/site-packages (from matplotlib) (1.4.2)\n",
            "Requirement already satisfied: six>=1.5.2 in /home/alex/.pyenv/versions/3.10.2/lib/python3.10/site-packages (from grpcio<2.0.0,>=1.43.0->flwr[simulation]) (1.16.0)\n",
            "Requirement already satisfied: requests in /home/alex/.pyenv/versions/3.10.2/lib/python3.10/site-packages (from ray[default]<1.14.0,>=1.13.0->flwr[simulation]) (2.28.1)\n",
            "Requirement already satisfied: click<=8.0.4,>=7.0 in /home/alex/.pyenv/versions/3.10.2/lib/python3.10/site-packages (from ray[default]<1.14.0,>=1.13.0->flwr[simulation]) (8.0.4)\n",
            "Requirement already satisfied: filelock in /home/alex/.pyenv/versions/3.10.2/lib/python3.10/site-packages (from ray[default]<1.14.0,>=1.13.0->flwr[simulation]) (3.8.0)\n",
            "Requirement already satisfied: virtualenv in /home/alex/.pyenv/versions/3.10.2/lib/python3.10/site-packages (from ray[default]<1.14.0,>=1.13.0->flwr[simulation]) (20.16.6)\n",
            "Requirement already satisfied: frozenlist in /home/alex/.pyenv/versions/3.10.2/lib/python3.10/site-packages (from ray[default]<1.14.0,>=1.13.0->flwr[simulation]) (1.3.1)\n",
            "Requirement already satisfied: jsonschema in /home/alex/.pyenv/versions/3.10.2/lib/python3.10/site-packages (from ray[default]<1.14.0,>=1.13.0->flwr[simulation]) (4.16.0)\n",
            "Requirement already satisfied: pyyaml in /home/alex/.pyenv/versions/3.10.2/lib/python3.10/site-packages (from ray[default]<1.14.0,>=1.13.0->flwr[simulation]) (6.0)\n",
            "Requirement already satisfied: msgpack<2.0.0,>=1.0.0 in /home/alex/.pyenv/versions/3.10.2/lib/python3.10/site-packages (from ray[default]<1.14.0,>=1.13.0->flwr[simulation]) (1.0.4)\n",
            "Requirement already satisfied: aiosignal in /home/alex/.pyenv/versions/3.10.2/lib/python3.10/site-packages (from ray[default]<1.14.0,>=1.13.0->flwr[simulation]) (1.2.0)\n",
            "Requirement already satisfied: attrs in /home/alex/.pyenv/versions/3.10.2/lib/python3.10/site-packages (from ray[default]<1.14.0,>=1.13.0->flwr[simulation]) (21.4.0)\n",
            "Requirement already satisfied: smart-open in /home/alex/.pyenv/versions/3.10.2/lib/python3.10/site-packages (from ray[default]<1.14.0,>=1.13.0->flwr[simulation]) (6.2.0)\n",
            "Requirement already satisfied: prometheus-client<0.14.0,>=0.7.1 in /home/alex/.pyenv/versions/3.10.2/lib/python3.10/site-packages (from ray[default]<1.14.0,>=1.13.0->flwr[simulation]) (0.13.1)\n",
            "Requirement already satisfied: colorful in /home/alex/.pyenv/versions/3.10.2/lib/python3.10/site-packages (from ray[default]<1.14.0,>=1.13.0->flwr[simulation]) (0.5.4)\n",
            "Requirement already satisfied: aiohttp-cors in /home/alex/.pyenv/versions/3.10.2/lib/python3.10/site-packages (from ray[default]<1.14.0,>=1.13.0->flwr[simulation]) (0.7.0)\n",
            "Requirement already satisfied: opencensus in /home/alex/.pyenv/versions/3.10.2/lib/python3.10/site-packages (from ray[default]<1.14.0,>=1.13.0->flwr[simulation]) (0.11.0)\n",
            "Requirement already satisfied: py-spy>=0.2.0 in /home/alex/.pyenv/versions/3.10.2/lib/python3.10/site-packages (from ray[default]<1.14.0,>=1.13.0->flwr[simulation]) (0.3.14)\n",
            "Requirement already satisfied: gpustat>=1.0.0b1 in /home/alex/.pyenv/versions/3.10.2/lib/python3.10/site-packages (from ray[default]<1.14.0,>=1.13.0->flwr[simulation]) (1.0.0)\n",
            "Requirement already satisfied: aiohttp>=3.7 in /home/alex/.pyenv/versions/3.10.2/lib/python3.10/site-packages (from ray[default]<1.14.0,>=1.13.0->flwr[simulation]) (3.8.3)\n",
            "Requirement already satisfied: charset-normalizer<3.0,>=2.0 in /home/alex/.pyenv/versions/3.10.2/lib/python3.10/site-packages (from aiohttp>=3.7->ray[default]<1.14.0,>=1.13.0->flwr[simulation]) (2.1.1)\n",
            "Requirement already satisfied: yarl<2.0,>=1.0 in /home/alex/.pyenv/versions/3.10.2/lib/python3.10/site-packages (from aiohttp>=3.7->ray[default]<1.14.0,>=1.13.0->flwr[simulation]) (1.8.1)\n",
            "Requirement already satisfied: async-timeout<5.0,>=4.0.0a3 in /home/alex/.pyenv/versions/3.10.2/lib/python3.10/site-packages (from aiohttp>=3.7->ray[default]<1.14.0,>=1.13.0->flwr[simulation]) (4.0.2)\n",
            "Requirement already satisfied: multidict<7.0,>=4.5 in /home/alex/.pyenv/versions/3.10.2/lib/python3.10/site-packages (from aiohttp>=3.7->ray[default]<1.14.0,>=1.13.0->flwr[simulation]) (6.0.2)\n",
            "Requirement already satisfied: nvidia-ml-py<=11.495.46,>=11.450.129 in /home/alex/.pyenv/versions/3.10.2/lib/python3.10/site-packages (from gpustat>=1.0.0b1->ray[default]<1.14.0,>=1.13.0->flwr[simulation]) (11.495.46)\n",
            "Requirement already satisfied: psutil>=5.6.0 in /home/alex/.pyenv/versions/3.10.2/lib/python3.10/site-packages (from gpustat>=1.0.0b1->ray[default]<1.14.0,>=1.13.0->flwr[simulation]) (5.9.1)\n",
            "Requirement already satisfied: blessed>=1.17.1 in /home/alex/.pyenv/versions/3.10.2/lib/python3.10/site-packages (from gpustat>=1.0.0b1->ray[default]<1.14.0,>=1.13.0->flwr[simulation]) (1.19.1)\n",
            "Requirement already satisfied: pyrsistent!=0.17.0,!=0.17.1,!=0.17.2,>=0.14.0 in /home/alex/.pyenv/versions/3.10.2/lib/python3.10/site-packages (from jsonschema->ray[default]<1.14.0,>=1.13.0->flwr[simulation]) (0.18.1)\n",
            "Requirement already satisfied: opencensus-context>=0.1.3 in /home/alex/.pyenv/versions/3.10.2/lib/python3.10/site-packages (from opencensus->ray[default]<1.14.0,>=1.13.0->flwr[simulation]) (0.1.3)\n",
            "Requirement already satisfied: google-api-core<3.0.0,>=1.0.0 in /home/alex/.pyenv/versions/3.10.2/lib/python3.10/site-packages (from opencensus->ray[default]<1.14.0,>=1.13.0->flwr[simulation]) (2.10.2)\n",
            "Requirement already satisfied: certifi>=2017.4.17 in /home/alex/.pyenv/versions/3.10.2/lib/python3.10/site-packages (from requests->ray[default]<1.14.0,>=1.13.0->flwr[simulation]) (2022.6.15)\n",
            "Requirement already satisfied: urllib3<1.27,>=1.21.1 in /home/alex/.pyenv/versions/3.10.2/lib/python3.10/site-packages (from requests->ray[default]<1.14.0,>=1.13.0->flwr[simulation]) (1.26.12)\n",
            "Requirement already satisfied: idna<4,>=2.5 in /home/alex/.pyenv/versions/3.10.2/lib/python3.10/site-packages (from requests->ray[default]<1.14.0,>=1.13.0->flwr[simulation]) (3.3)\n",
            "Requirement already satisfied: distlib<1,>=0.3.6 in /home/alex/.pyenv/versions/3.10.2/lib/python3.10/site-packages (from virtualenv->ray[default]<1.14.0,>=1.13.0->flwr[simulation]) (0.3.6)\n",
            "Requirement already satisfied: platformdirs<3,>=2.4 in /home/alex/.pyenv/versions/3.10.2/lib/python3.10/site-packages (from virtualenv->ray[default]<1.14.0,>=1.13.0->flwr[simulation]) (2.5.1)\n",
            "Requirement already satisfied: wcwidth>=0.1.4 in /home/alex/.pyenv/versions/3.10.2/lib/python3.10/site-packages (from blessed>=1.17.1->gpustat>=1.0.0b1->ray[default]<1.14.0,>=1.13.0->flwr[simulation]) (0.2.5)\n",
            "Requirement already satisfied: google-auth<3.0dev,>=1.25.0 in /home/alex/.pyenv/versions/3.10.2/lib/python3.10/site-packages (from google-api-core<3.0.0,>=1.0.0->opencensus->ray[default]<1.14.0,>=1.13.0->flwr[simulation]) (2.13.0)\n",
            "Requirement already satisfied: googleapis-common-protos<2.0dev,>=1.56.2 in /home/alex/.pyenv/versions/3.10.2/lib/python3.10/site-packages (from google-api-core<3.0.0,>=1.0.0->opencensus->ray[default]<1.14.0,>=1.13.0->flwr[simulation]) (1.56.4)\n",
            "Requirement already satisfied: cachetools<6.0,>=2.0.0 in /home/alex/.pyenv/versions/3.10.2/lib/python3.10/site-packages (from google-auth<3.0dev,>=1.25.0->google-api-core<3.0.0,>=1.0.0->opencensus->ray[default]<1.14.0,>=1.13.0->flwr[simulation]) (5.2.0)\n",
            "Requirement already satisfied: pyasn1-modules>=0.2.1 in /home/alex/.pyenv/versions/3.10.2/lib/python3.10/site-packages (from google-auth<3.0dev,>=1.25.0->google-api-core<3.0.0,>=1.0.0->opencensus->ray[default]<1.14.0,>=1.13.0->flwr[simulation]) (0.2.8)\n",
            "Requirement already satisfied: rsa<5,>=3.1.4 in /home/alex/.pyenv/versions/3.10.2/lib/python3.10/site-packages (from google-auth<3.0dev,>=1.25.0->google-api-core<3.0.0,>=1.0.0->opencensus->ray[default]<1.14.0,>=1.13.0->flwr[simulation]) (4.9)\n",
            "Requirement already satisfied: pyasn1<0.5.0,>=0.4.6 in /home/alex/.pyenv/versions/3.10.2/lib/python3.10/site-packages (from pyasn1-modules>=0.2.1->google-auth<3.0dev,>=1.25.0->google-api-core<3.0.0,>=1.0.0->opencensus->ray[default]<1.14.0,>=1.13.0->flwr[simulation]) (0.4.8)\n",
            "Installing collected packages: tqdm\n",
            "Successfully installed tqdm-4.64.1\n"
          ]
        }
      ],
      "source": [
        "!pip install flwr[simulation] scikit-learn matplotlib tqdm"
      ]
    },
    {
      "cell_type": "markdown",
      "metadata": {
        "id": "3UFT3_A3iz76"
      },
      "source": [
        "Now that we have the necessary packages installed, we can import everything we need for this tutorial:"
      ]
    },
    {
      "cell_type": "code",
      "execution_count": 131,
      "metadata": {
        "id": "Tja2N6l-qH-e"
      },
      "outputs": [
        {
          "name": "stdout",
          "output_type": "stream",
          "text": [
            "flwr 1.0.0\n",
            "numpy 1.22.3\n",
            "sklearn 1.1.3\n"
          ]
        }
      ],
      "source": [
        "from collections import OrderedDict\n",
        "from typing import List, Tuple\n",
        "\n",
        "import flwr as fl\n",
        "import matplotlib.pyplot as plt\n",
        "import numpy as np\n",
        "import sklearn\n",
        "from flwr.common import Metrics\n",
        "from flwr.server.strategy import FedAvg\n",
        "from flwr.simulation import start_simulation\n",
        "from sklearn.datasets import fetch_openml\n",
        "from sklearn.metrics import log_loss\n",
        "from sklearn.model_selection import train_test_split\n",
        "from sklearn.neural_network import MLPClassifier\n",
        "from tqdm import tqdm\n",
        "\n",
        "print(\"flwr\", fl.__version__)\n",
        "print(\"numpy\", np.__version__)\n",
        "print(\"sklearn\", sklearn.__version__)"
      ]
    },
    {
      "cell_type": "markdown",
      "metadata": {
        "id": "JVcgAAiaihnx"
      },
      "source": [
        "### Loading the data\n",
        "\n",
        "In this tutorial, we'll introduce federated learning by training a simple neural\n",
        "network on the MNIST handwritten digit recognition dataset, a well-known\n",
        "computer vision benchmark. The task is to recognize images of the digits 0-9."
      ]
    },
    {
      "cell_type": "markdown",
      "metadata": {
        "id": "toxAoOq6fS2h"
      },
      "source": [
        "We simulate having multiple users by splitting the dataset into partitions. Each\n",
        "partition will represent the data from a single user. We're doing this purely\n",
        "for experimentation purposes, in the real world there's no need for data\n",
        "splitting because each user already has their own data local to their device.\n",
        "Each user's device is a client, so having ten clients participate in a\n",
        "federation means having ten clients connected to the federated learning server."
      ]
    },
    {
      "cell_type": "code",
      "execution_count": 31,
      "metadata": {
        "id": "q9LhPFDh0S5c"
      },
      "outputs": [],
      "source": [
        "NUM_CLIENTS = 10"
      ]
    },
    {
      "cell_type": "markdown",
      "metadata": {
        "id": "01Zy7yjBPhQd"
      },
      "source": [
        "Let's load the MNIST training and test set and partition them into ten smaller datasets (each split into training and validation set)."
      ]
    },
    {
      "cell_type": "code",
      "execution_count": 184,
      "metadata": {},
      "outputs": [],
      "source": [
        "X, y = fetch_openml(\"mnist_784\", version=1, return_X_y=True, as_frame=False)\n",
        "y = y.astype(np.int32)\n",
        "X = X / 255.0 # normalize the pixel intensities to range [0,1]\n",
        "X_splits = np.array_split(X, NUM_CLIENTS)\n",
        "y_splits = np.array_split(y, NUM_CLIENTS)\n",
        "data_splits = [train_test_split(Xs, ys, test_size=0.2) for Xs, ys in zip(X_splits, y_splits)]"
      ]
    },
    {
      "cell_type": "markdown",
      "metadata": {},
      "source": [
        "Then let's plot a sample of the MNIST digits just to visualize the data we're\n",
        "using for the ML task."
      ]
    },
    {
      "cell_type": "code",
      "execution_count": 185,
      "metadata": {},
      "outputs": [
        {
          "data": {
            "image/png": "[encoded data removed]",
            "text/plain": [
              "<Figure size 432x288 with 10 Axes>"
            ]
          },
          "metadata": {
            "needs_background": "light"
          },
          "output_type": "display_data"
        }
      ],
      "source": [
        "fig, ax = plt.subplots(2,5)\n",
        "for i, ax in enumerate(ax.flatten()):\n",
        "    im_idx = np.argwhere(y == i)[0]\n",
        "    plottable_image = np.reshape(X[im_idx], (28, 28))\n",
        "    ax.imshow(plottable_image, cmap='gray_r')"
      ]
    },
    {
      "cell_type": "markdown",
      "metadata": {
        "id": "4TW4Pzb7p1F9"
      },
      "source": [
        "## Part 1: Centralized Training\n",
        "\n"
      ]
    },
    {
      "cell_type": "markdown",
      "metadata": {
        "id": "cTjCmmBtqPgM"
      },
      "source": [
        "Next, we're going to define a simple model and train it locally on one of the\n",
        "ten client splits.\n"
      ]
    },
    {
      "cell_type": "markdown",
      "metadata": {
        "id": "XYks8IpJL6iK"
      },
      "source": [
        "### Defining the model\n"
      ]
    },
    {
      "cell_type": "code",
      "execution_count": 186,
      "metadata": {
        "id": "2X3cVBXMpP6w"
      },
      "outputs": [],
      "source": [
        "model = MLPClassifier(\n",
        "    solver=\"adam\",\n",
        "    alpha=1e-5,\n",
        "    hidden_layer_sizes=(64, 32),\n",
        "    batch_size=32,\n",
        "    warm_start=True,\n",
        "    verbose=True,\n",
        "    max_iter=1,\n",
        ")"
      ]
    },
    {
      "cell_type": "code",
      "execution_count": 188,
      "metadata": {},
      "outputs": [
        {
          "name": "stderr",
          "output_type": "stream",
          "text": [
            "  5%|▌         | 1/20 [00:01<00:26,  1.38s/it]"
          ]
        },
        {
          "name": "stdout",
          "output_type": "stream",
          "text": [
            "Iteration 11, loss = 0.04490121\n"
          ]
        },
        {
          "name": "stderr",
          "output_type": "stream",
          "text": [
            " 10%|█         | 2/20 [00:02<00:23,  1.28s/it]"
          ]
        },
        {
          "name": "stdout",
          "output_type": "stream",
          "text": [
            "Iteration 12, loss = 0.03963037\n"
          ]
        },
        {
          "name": "stderr",
          "output_type": "stream",
          "text": [
            " 15%|█▌        | 3/20 [00:03<00:20,  1.20s/it]"
          ]
        },
        {
          "name": "stdout",
          "output_type": "stream",
          "text": [
            "Iteration 13, loss = 0.03118745\n"
          ]
        },
        {
          "name": "stderr",
          "output_type": "stream",
          "text": [
            " 20%|██        | 4/20 [00:05<00:22,  1.41s/it]"
          ]
        },
        {
          "name": "stdout",
          "output_type": "stream",
          "text": [
            "Iteration 14, loss = 0.02323450\n"
          ]
        },
        {
          "name": "stderr",
          "output_type": "stream",
          "text": [
            " 25%|██▌       | 5/20 [00:06<00:18,  1.22s/it]"
          ]
        },
        {
          "name": "stdout",
          "output_type": "stream",
          "text": [
            "Iteration 15, loss = 0.01731812\n"
          ]
        },
        {
          "name": "stderr",
          "output_type": "stream",
          "text": [
            " 30%|███       | 6/20 [00:07<00:14,  1.06s/it]"
          ]
        },
        {
          "name": "stdout",
          "output_type": "stream",
          "text": [
            "Iteration 16, loss = 0.01591142\n"
          ]
        },
        {
          "name": "stderr",
          "output_type": "stream",
          "text": [
            " 35%|███▌      | 7/20 [00:08<00:14,  1.10s/it]"
          ]
        },
        {
          "name": "stdout",
          "output_type": "stream",
          "text": [
            "Iteration 17, loss = 0.01266718\n"
          ]
        },
        {
          "name": "stderr",
          "output_type": "stream",
          "text": [
            " 40%|████      | 8/20 [00:09<00:12,  1.01s/it]"
          ]
        },
        {
          "name": "stdout",
          "output_type": "stream",
          "text": [
            "Iteration 18, loss = 0.00886374\n"
          ]
        },
        {
          "name": "stderr",
          "output_type": "stream",
          "text": [
            " 45%|████▌     | 9/20 [00:10<00:11,  1.05s/it]"
          ]
        },
        {
          "name": "stdout",
          "output_type": "stream",
          "text": [
            "Iteration 19, loss = 0.00803349\n"
          ]
        },
        {
          "name": "stderr",
          "output_type": "stream",
          "text": [
            " 50%|█████     | 10/20 [00:11<00:09,  1.01it/s]"
          ]
        },
        {
          "name": "stdout",
          "output_type": "stream",
          "text": [
            "Iteration 20, loss = 0.01381383\n"
          ]
        },
        {
          "name": "stderr",
          "output_type": "stream",
          "text": [
            " 55%|█████▌    | 11/20 [00:12<00:09,  1.09s/it]"
          ]
        },
        {
          "name": "stdout",
          "output_type": "stream",
          "text": [
            "Iteration 21, loss = 0.01188982\n"
          ]
        },
        {
          "name": "stderr",
          "output_type": "stream",
          "text": [
            " 60%|██████    | 12/20 [00:13<00:08,  1.01s/it]"
          ]
        },
        {
          "name": "stdout",
          "output_type": "stream",
          "text": [
            "Iteration 22, loss = 0.00769037\n"
          ]
        },
        {
          "name": "stderr",
          "output_type": "stream",
          "text": [
            " 65%|██████▌   | 13/20 [00:14<00:06,  1.04it/s]"
          ]
        },
        {
          "name": "stdout",
          "output_type": "stream",
          "text": [
            "Iteration 23, loss = 0.00805827\n"
          ]
        },
        {
          "name": "stderr",
          "output_type": "stream",
          "text": [
            " 70%|███████   | 14/20 [00:16<00:07,  1.31s/it]"
          ]
        },
        {
          "name": "stdout",
          "output_type": "stream",
          "text": [
            "Iteration 24, loss = 0.00463877\n"
          ]
        },
        {
          "name": "stderr",
          "output_type": "stream",
          "text": [
            " 75%|███████▌  | 15/20 [00:17<00:06,  1.27s/it]"
          ]
        },
        {
          "name": "stdout",
          "output_type": "stream",
          "text": [
            "Iteration 25, loss = 0.00443482\n"
          ]
        },
        {
          "name": "stderr",
          "output_type": "stream",
          "text": [
            " 80%|████████  | 16/20 [00:18<00:04,  1.11s/it]"
          ]
        },
        {
          "name": "stdout",
          "output_type": "stream",
          "text": [
            "Iteration 26, loss = 0.00294739\n"
          ]
        },
        {
          "name": "stderr",
          "output_type": "stream",
          "text": [
            " 85%|████████▌ | 17/20 [00:18<00:03,  1.03s/it]"
          ]
        },
        {
          "name": "stdout",
          "output_type": "stream",
          "text": [
            "Iteration 27, loss = 0.00582396\n"
          ]
        },
        {
          "name": "stderr",
          "output_type": "stream",
          "text": [
            " 90%|█████████ | 18/20 [00:19<00:01,  1.06it/s]"
          ]
        },
        {
          "name": "stdout",
          "output_type": "stream",
          "text": [
            "Iteration 28, loss = 0.00850598\n"
          ]
        },
        {
          "name": "stderr",
          "output_type": "stream",
          "text": [
            " 95%|█████████▌| 19/20 [00:21<00:01,  1.34s/it]"
          ]
        },
        {
          "name": "stdout",
          "output_type": "stream",
          "text": [
            "Iteration 29, loss = 0.00687442\n"
          ]
        },
        {
          "name": "stderr",
          "output_type": "stream",
          "text": [
            "100%|██████████| 20/20 [00:23<00:00,  1.17s/it]"
          ]
        },
        {
          "name": "stdout",
          "output_type": "stream",
          "text": [
            "Iteration 30, loss = 0.00713964\n"
          ]
        },
        {
          "name": "stderr",
          "output_type": "stream",
          "text": [
            "\n"
          ]
        }
      ],
      "source": [
        "epochs = 20\n",
        "X_train_0, X_test_0, y_train_0, y_test_0 = data_splits[0]\n",
        "for i in tqdm(range(epochs)):\n",
        "    model.fit(X_train_0, y_train_0)"
      ]
    },
    {
      "cell_type": "markdown",
      "metadata": {},
      "source": [
        "Now let's take a look at the mode's accuracy on the sample dataset:"
      ]
    },
    {
      "cell_type": "code",
      "execution_count": 189,
      "metadata": {},
      "outputs": [
        {
          "name": "stdout",
          "output_type": "stream",
          "text": [
            "Model accuracy on train data: 0.9991071428571429\n",
            "Model accuracy on test data: 0.9457142857142857\n"
          ]
        }
      ],
      "source": [
        "print(f\"Model accuracy on train data: {model.score(X_train_0, y_train_0)}\")\n",
        "print(f\"Model accuracy on test data: {model.score(X_test_0, y_test_0)}\")"
      ]
    },
    {
      "cell_type": "markdown",
      "metadata": {
        "id": "DhLGLdmhOhVr"
      },
      "source": [
        "Now that we've covered the local model fitting process, let's take a look at how\n",
        "this would work in federated learning!"
      ]
    },
    {
      "cell_type": "markdown",
      "metadata": {
        "id": "a6HP2cYCsqxD"
      },
      "source": [
        "## Part 2: Federated Learning with Flower\n",
        "\n",
        "Part 1 demonstrated a simple centralized training pipeline. Next, we'll simulate\n",
        "a situation where we have multiple datasets across multiple devices and where we\n",
        "train a model over these devices using federated learning."
      ]
    },
    {
      "cell_type": "markdown",
      "metadata": {
        "id": "mf-cW093MzeT"
      },
      "source": [
        "### Updating model parameters\n",
        "\n",
        "In federated learning, the server sends the global model parameters to the client, and the client updates the local model with the parameters received from the server. It then trains the model on the local data (which changes the model parameters locally) and sends the updated/changed model parameters back to the server (or, alternatively, it sends just the gradients back to the server, not the full model parameters).\n",
        "\n",
        "We need two helper functions to update the local model with parameters received from the server and to get the updated model parameters from the local model: `set_parameters` and `get_parameters`. The following two functions do just that for the model above.\n"
      ]
    },
    {
      "cell_type": "code",
      "execution_count": 190,
      "metadata": {
        "id": "1ZxGk6AMNvvV"
      },
      "outputs": [],
      "source": [
        "def get_parameters(model) -> List[np.ndarray]:\n",
        "    return [model.coefs_, model.intercepts_]\n",
        "\n",
        "def set_parameters(model, parameters: List[np.ndarray]):\n",
        "    model.coefs_, model.intercepts_ = parameters\n",
        "    return model\n",
        "\n",
        "def initialize_parameters(model, input_dim, output_dim):\n",
        "    dims = (input_dim, *model.hidden_layer_sizes, output_dim)\n",
        "    model.coefs_ = [np.random.rand(dims[i], dims[i+1]) for i in range(len(dims[:-1]))]\n",
        "    model.intercepts_ = [np.random.rand(dims[i+1]) for i in range(len(dims[:-1]))]\n"
      ]
    },
    {
      "cell_type": "markdown",
      "metadata": {
        "id": "1lCf3oljdClM"
      },
      "source": [
        "### Implementing a Flower client\n",
        "\n",
        "With that out of the way, let's move on to the interesting part. Federated learning systems consist of a server and multiple clients. In Flower, we create clients by implementing subclasses of `flwr.client.Client` or `flwr.client.NumPyClient`. We use `NumPyClient` in this tutorial because it is easier to implement and requires us to write less boilerplate.\n",
        "\n",
        "To implement the Flower client, we create a subclass of `flwr.client.NumPyClient` and implement the three methods `get_parameters`, `fit`, and `evaluate`:\n",
        "\n",
        "* `get_parameters`: Return the current local model parameters\n",
        "* `fit`: Receive model parameters from the server, train the model parameters on the local data, and return the (updated) model parameters to the server\n",
        "* `evaluate`: Receive model parameters from the server, evaluate the model parameters on the local data, and return the evaluation result to the server\n",
        "\n",
        "Let's see a simple Flower client implementation that brings everything together:"
      ]
    },
    {
      "cell_type": "code",
      "execution_count": 191,
      "metadata": {
        "id": "ye6Jt5p3LWtF"
      },
      "outputs": [],
      "source": [
        "class FlowerClient(fl.client.NumPyClient):\n",
        "    def __init__(self, model, train_data, test_data, epochs):\n",
        "        self.model = model\n",
        "        self.X_train, self.y_train = train_data\n",
        "        self.X_test, self.y_test = test_data\n",
        "        self.epochs = epochs\n",
        "\n",
        "    def get_parameters(self, config=None):\n",
        "        return get_parameters(self.model)\n",
        "\n",
        "    def fit(self, parameters, config=None):\n",
        "        set_parameters(self.model, parameters)\n",
        "        for _ in tqdm(range(epochs)):\n",
        "            self.model.fit(self.X_train, self.y_train)\n",
        "        return get_parameters(self.model), len(self.y_train), {}\n",
        "\n",
        "    def evaluate(self, parameters, config=None):\n",
        "        set_parameters(self.model, parameters)\n",
        "        loss = log_loss(np.int32(self.y_test), model.predict_proba(X_test))\n",
        "        accuracy = self.model.score(self.X_test, self.y_test)\n",
        "        return float(loss), len(self.y_test), {\"accuracy\": float(accuracy)}"
      ]
    },
    {
      "cell_type": "markdown",
      "metadata": {
        "id": "Heyxd9MfHOTe"
      },
      "source": [
        "Our class `FlowerClient` defines how local training/evaluation will be performed and allows Flower to call the local training/evaluation through `fit` and `evaluate`. Each instance of `FlowerClient` represents a *single client* in our federated learning system. Federated learning systems have multiple clients (otherwise there's not much to federate), so each client will be represented by its own instance of `FlowerClient`. If we have, for example, three clients in our workload, then we'd have three instances of `FlowerClient`. Flower calls `FlowerClient.fit` on the respective instance when the server selects a particular client for training (and `FlowerClient.evaluate` for evaluation).\n",
        "\n",
        "### Using the Virtual Client Engine\n",
        "\n",
        "In this notebook, we want to simulate a federated learning system with 10 clients on a single machine. This means that the server and all 10 clients will live on a single machine and share resources such as CPU, GPU, and memory. Having 10 clients would mean having 10 instances of `FlowerClient` im memory. Doing this on a single machine can quickly exhaust the available memory resources, even if only a subset of these clients participates in a single round of federated learning.\n",
        "\n",
        "In addition to the regular capabilities where server and clients run on multiple machines, Flower therefore provides special simulation capabilities that create `FlowerClient` instances only when they are actually necessary for training or evaluation. To enable the Flower framework to create clients when necessary, we need to implement a function called `client_fn` that creates a `FlowerClient` instance on demand. Flower calls `client_fn` whenever it needs an instance of one particular client to call `fit` or `evaluate` (those instances are usually discarded after use, so they should not keep any local state). Clients are identified by a client ID, or short `cid`. The `cid` can be used, for example, to load different local data partitions for different clients, as can be seen below:"
      ]
    },
    {
      "cell_type": "code",
      "execution_count": 193,
      "metadata": {
        "id": "qkcwggRYOwWN"
      },
      "outputs": [],
      "source": [
        "NUM_EPOCHS = 10\n",
        "\n",
        "def client_fn(cid: str) -> FlowerClient:\n",
        "    \"\"\"Create a Flower client representing a single organization.\"\"\"\n",
        "\n",
        "    # Load model\n",
        "    model = MLPClassifier(\n",
        "        solver=\"adam\",\n",
        "        alpha=1e-5,\n",
        "        hidden_layer_sizes=(64, 32),\n",
        "        batch_size=32,\n",
        "        warm_start=True,\n",
        "        verbose=True,\n",
        "        max_iter=1,\n",
        "    )\n",
        "\n",
        "    # Load data (CIFAR-10)\n",
        "    # Note: each client gets a different trainloader/valloader, so each client\n",
        "    # will train and evaluate on their own unique data\n",
        "    X_train, X_test, y_train, y_test = data_splits[int(cid)]\n",
        "    # Fit on one training example to initialize weights\n",
        "    initialize_parameters(model, 784, 10)\n",
        "\n",
        "    # Create a  single Flower client representing a single organization\n",
        "    return FlowerClient(model, (X_train, y_train), (X_test, y_test), epochs=NUM_EPOCHS)"
      ]
    },
    {
      "cell_type": "markdown",
      "metadata": {
        "id": "axzXSMtlfhXU"
      },
      "source": [
        "### Starting the training\n",
        "\n",
        "We now have the class `FlowerClient` which defines client-side training/evaluation and `client_fn` which allows Flower to create `FlowerClient` instances whenever it needs to call `fit` or `evaluate` on one particular client. The last step is to start the actual simulation using `flwr.simulation.start_simulation`. \n",
        "\n",
        "The function `start_simulation` accepts a number of arguments, amongst them the `client_fn` used to create `FlowerClient` instances, the number of clients to simulate (`num_clients`), the number of federated learning rounds (`num_rounds`), and the strategy. The strategy encapsulates the federated learning approach/algorithm, for example, *Federated Averaging* (FedAvg).\n",
        "\n",
        "Flower has a number of built-in strategies, but we can also use our own strategy implementations to customize nearly all aspects of the federated learning approach. For this example, we use the built-in `FedAvg` implementation and customize it using a few basic parameters. The last step is the actual call to `start_simulation` which - you guessed it - starts the simulation:"
      ]
    },
    {
      "cell_type": "code",
      "execution_count": 195,
      "metadata": {
        "id": "ELNy0-0nfyI2"
      },
      "outputs": [
        {
          "name": "stderr",
          "output_type": "stream",
          "text": [
            "INFO flower 2022-10-29 23:08:35,413 | app.py:142 | Starting Flower simulation, config: ServerConfig(num_rounds=5, round_timeout=None)\n",
            "INFO flower 2022-10-29 23:08:42,544 | app.py:176 | Flower VCE: Ray initialized with resources: {'memory': 4923929396.0, 'node:172.17.38.32': 1.0, 'object_store_memory': 2461964697.0, 'CPU': 4.0}\n",
            "INFO flower 2022-10-29 23:08:42,548 | server.py:86 | Initializing global parameters\n",
            "INFO flower 2022-10-29 23:08:42,560 | server.py:270 | Requesting initial parameters from one random client\n",
            "\u001b[2m\u001b[36m(launch_and_get_parameters pid=2605)\u001b[0m /home/alex/.pyenv/versions/3.10.2/lib/python3.10/site-packages/numpy/lib/npyio.py:518: VisibleDeprecationWarning: Creating an ndarray from ragged nested sequences (which is a list-or-tuple of lists-or-tuples-or ndarrays with different lengths or shapes) is deprecated. If you meant to do this, you must specify 'dtype=object' when creating the ndarray.\n",
            "\u001b[2m\u001b[36m(launch_and_get_parameters pid=2605)\u001b[0m   arr = np.asanyarray(arr)\n"
          ]
        },
        {
          "ename": "RayTaskError(ValueError)",
          "evalue": "\u001b[36mray::launch_and_get_parameters()\u001b[39m (pid=2605, ip=172.17.38.32)\n  File \"/home/alex/.pyenv/versions/3.10.2/lib/python3.10/site-packages/flwr/simulation/ray_transport/ray_client_proxy.py\", line 109, in launch_and_get_parameters\n    return client.get_parameters(get_parameters_ins)\n  File \"/home/alex/.pyenv/versions/3.10.2/lib/python3.10/site-packages/flwr/client/app.py\", line 239, in _get_parameters\n    parameters_proto = ndarrays_to_parameters(parameters)\n  File \"/home/alex/.pyenv/versions/3.10.2/lib/python3.10/site-packages/flwr/common/parameter.py\", line 28, in ndarrays_to_parameters\n    tensors = [ndarray_to_bytes(ndarray) for ndarray in ndarrays]\n  File \"/home/alex/.pyenv/versions/3.10.2/lib/python3.10/site-packages/flwr/common/parameter.py\", line 28, in <listcomp>\n    tensors = [ndarray_to_bytes(ndarray) for ndarray in ndarrays]\n  File \"/home/alex/.pyenv/versions/3.10.2/lib/python3.10/site-packages/flwr/common/parameter.py\", line 43, in ndarray_to_bytes\n    np.save(bytes_io, ndarray, allow_pickle=False)  # type: ignore\n  File \"<__array_function__ internals>\", line 180, in save\n  File \"/home/alex/.pyenv/versions/3.10.2/lib/python3.10/site-packages/numpy/lib/npyio.py\", line 519, in save\n    format.write_array(fid, arr, allow_pickle=allow_pickle,\n  File \"/home/alex/.pyenv/versions/3.10.2/lib/python3.10/site-packages/numpy/lib/format.py\", line 675, in write_array\n    raise ValueError(\"Object arrays cannot be saved when \"\nValueError: Object arrays cannot be saved when allow_pickle=False",
          "output_type": "error",
          "traceback": [
            "\u001b[0;31m---------------------------------------------------------------------------\u001b[0m",
            "\u001b[0;31mRayTaskError(ValueError)\u001b[0m                  Traceback (most recent call last)",
            "\u001b[1;32m/home/alex/federated-learning-starter/flower_tutorial.ipynb Cell 30\u001b[0m in \u001b[0;36m<cell line: 11>\u001b[0;34m()\u001b[0m\n\u001b[1;32m      <a href='vscode-notebook-cell://wsl%2Bubuntu-20.04/home/alex/federated-learning-starter/flower_tutorial.ipynb#X45sdnNjb2RlLXJlbW90ZQ%3D%3D?line=1'>2</a>\u001b[0m strategy \u001b[39m=\u001b[39m FedAvg(\n\u001b[1;32m      <a href='vscode-notebook-cell://wsl%2Bubuntu-20.04/home/alex/federated-learning-starter/flower_tutorial.ipynb#X45sdnNjb2RlLXJlbW90ZQ%3D%3D?line=2'>3</a>\u001b[0m     fraction_fit\u001b[39m=\u001b[39m\u001b[39m1.0\u001b[39m,  \u001b[39m# Sample 100% of available clients for training\u001b[39;00m\n\u001b[1;32m      <a href='vscode-notebook-cell://wsl%2Bubuntu-20.04/home/alex/federated-learning-starter/flower_tutorial.ipynb#X45sdnNjb2RlLXJlbW90ZQ%3D%3D?line=3'>4</a>\u001b[0m     fraction_evaluate\u001b[39m=\u001b[39m\u001b[39m0.5\u001b[39m,  \u001b[39m# Sample 50% of available clients for evaluation\u001b[39;00m\n\u001b[0;32m   (...)\u001b[0m\n\u001b[1;32m      <a href='vscode-notebook-cell://wsl%2Bubuntu-20.04/home/alex/federated-learning-starter/flower_tutorial.ipynb#X45sdnNjb2RlLXJlbW90ZQ%3D%3D?line=6'>7</a>\u001b[0m     min_available_clients\u001b[39m=\u001b[39m\u001b[39m10\u001b[39m,  \u001b[39m# Wait until all 10 clients are available\u001b[39;00m\n\u001b[1;32m      <a href='vscode-notebook-cell://wsl%2Bubuntu-20.04/home/alex/federated-learning-starter/flower_tutorial.ipynb#X45sdnNjb2RlLXJlbW90ZQ%3D%3D?line=7'>8</a>\u001b[0m )\n\u001b[1;32m     <a href='vscode-notebook-cell://wsl%2Bubuntu-20.04/home/alex/federated-learning-starter/flower_tutorial.ipynb#X45sdnNjb2RlLXJlbW90ZQ%3D%3D?line=9'>10</a>\u001b[0m \u001b[39m# Start simulation\u001b[39;00m\n\u001b[0;32m---> <a href='vscode-notebook-cell://wsl%2Bubuntu-20.04/home/alex/federated-learning-starter/flower_tutorial.ipynb#X45sdnNjb2RlLXJlbW90ZQ%3D%3D?line=10'>11</a>\u001b[0m start_simulation(\n\u001b[1;32m     <a href='vscode-notebook-cell://wsl%2Bubuntu-20.04/home/alex/federated-learning-starter/flower_tutorial.ipynb#X45sdnNjb2RlLXJlbW90ZQ%3D%3D?line=11'>12</a>\u001b[0m     client_fn\u001b[39m=\u001b[39;49mclient_fn,\n\u001b[1;32m     <a href='vscode-notebook-cell://wsl%2Bubuntu-20.04/home/alex/federated-learning-starter/flower_tutorial.ipynb#X45sdnNjb2RlLXJlbW90ZQ%3D%3D?line=12'>13</a>\u001b[0m     num_clients\u001b[39m=\u001b[39;49mNUM_CLIENTS,\n\u001b[1;32m     <a href='vscode-notebook-cell://wsl%2Bubuntu-20.04/home/alex/federated-learning-starter/flower_tutorial.ipynb#X45sdnNjb2RlLXJlbW90ZQ%3D%3D?line=13'>14</a>\u001b[0m     config\u001b[39m=\u001b[39;49mfl\u001b[39m.\u001b[39;49mserver\u001b[39m.\u001b[39;49mServerConfig(num_rounds\u001b[39m=\u001b[39;49m\u001b[39m5\u001b[39;49m),\n\u001b[1;32m     <a href='vscode-notebook-cell://wsl%2Bubuntu-20.04/home/alex/federated-learning-starter/flower_tutorial.ipynb#X45sdnNjb2RlLXJlbW90ZQ%3D%3D?line=14'>15</a>\u001b[0m     strategy\u001b[39m=\u001b[39;49mstrategy,\n\u001b[1;32m     <a href='vscode-notebook-cell://wsl%2Bubuntu-20.04/home/alex/federated-learning-starter/flower_tutorial.ipynb#X45sdnNjb2RlLXJlbW90ZQ%3D%3D?line=15'>16</a>\u001b[0m )\n\u001b[1;32m     <a href='vscode-notebook-cell://wsl%2Bubuntu-20.04/home/alex/federated-learning-starter/flower_tutorial.ipynb#X45sdnNjb2RlLXJlbW90ZQ%3D%3D?line=17'>18</a>\u001b[0m \u001b[39mprint\u001b[39m(history)\n",
            "File \u001b[0;32m~/.pyenv/versions/3.10.2/lib/python3.10/site-packages/flwr/simulation/app.py:193\u001b[0m, in \u001b[0;36mstart_simulation\u001b[0;34m(client_fn, num_clients, clients_ids, client_resources, server, config, strategy, client_manager, ray_init_args, keep_initialised)\u001b[0m\n\u001b[1;32m    190\u001b[0m     initialized_server\u001b[39m.\u001b[39mclient_manager()\u001b[39m.\u001b[39mregister(client\u001b[39m=\u001b[39mclient_proxy)\n\u001b[1;32m    192\u001b[0m \u001b[39m# Start training\u001b[39;00m\n\u001b[0;32m--> 193\u001b[0m hist \u001b[39m=\u001b[39m _fl(\n\u001b[1;32m    194\u001b[0m     server\u001b[39m=\u001b[39;49minitialized_server,\n\u001b[1;32m    195\u001b[0m     config\u001b[39m=\u001b[39;49minitialized_config,\n\u001b[1;32m    196\u001b[0m )\n\u001b[1;32m    198\u001b[0m \u001b[39mreturn\u001b[39;00m hist\n",
            "File \u001b[0;32m~/.pyenv/versions/3.10.2/lib/python3.10/site-packages/flwr/server/app.py:179\u001b[0m, in \u001b[0;36m_fl\u001b[0;34m(server, config)\u001b[0m\n\u001b[1;32m    174\u001b[0m \u001b[39mdef\u001b[39;00m \u001b[39m_fl\u001b[39m(\n\u001b[1;32m    175\u001b[0m     server: Server,\n\u001b[1;32m    176\u001b[0m     config: ServerConfig,\n\u001b[1;32m    177\u001b[0m ) \u001b[39m-\u001b[39m\u001b[39m>\u001b[39m History:\n\u001b[1;32m    178\u001b[0m     \u001b[39m# Fit model\u001b[39;00m\n\u001b[0;32m--> 179\u001b[0m     hist \u001b[39m=\u001b[39m server\u001b[39m.\u001b[39;49mfit(num_rounds\u001b[39m=\u001b[39;49mconfig\u001b[39m.\u001b[39;49mnum_rounds, timeout\u001b[39m=\u001b[39;49mconfig\u001b[39m.\u001b[39;49mround_timeout)\n\u001b[1;32m    180\u001b[0m     log(INFO, \u001b[39m\"\u001b[39m\u001b[39mapp_fit: losses_distributed \u001b[39m\u001b[39m%s\u001b[39;00m\u001b[39m\"\u001b[39m, \u001b[39mstr\u001b[39m(hist\u001b[39m.\u001b[39mlosses_distributed))\n\u001b[1;32m    181\u001b[0m     log(INFO, \u001b[39m\"\u001b[39m\u001b[39mapp_fit: metrics_distributed \u001b[39m\u001b[39m%s\u001b[39;00m\u001b[39m\"\u001b[39m, \u001b[39mstr\u001b[39m(hist\u001b[39m.\u001b[39mmetrics_distributed))\n",
            "File \u001b[0;32m~/.pyenv/versions/3.10.2/lib/python3.10/site-packages/flwr/server/server.py:87\u001b[0m, in \u001b[0;36mServer.fit\u001b[0;34m(self, num_rounds, timeout)\u001b[0m\n\u001b[1;32m     85\u001b[0m \u001b[39m# Initialize parameters\u001b[39;00m\n\u001b[1;32m     86\u001b[0m log(INFO, \u001b[39m\"\u001b[39m\u001b[39mInitializing global parameters\u001b[39m\u001b[39m\"\u001b[39m)\n\u001b[0;32m---> 87\u001b[0m \u001b[39mself\u001b[39m\u001b[39m.\u001b[39mparameters \u001b[39m=\u001b[39m \u001b[39mself\u001b[39;49m\u001b[39m.\u001b[39;49m_get_initial_parameters(timeout\u001b[39m=\u001b[39;49mtimeout)\n\u001b[1;32m     88\u001b[0m log(INFO, \u001b[39m\"\u001b[39m\u001b[39mEvaluating initial parameters\u001b[39m\u001b[39m\"\u001b[39m)\n\u001b[1;32m     89\u001b[0m res \u001b[39m=\u001b[39m \u001b[39mself\u001b[39m\u001b[39m.\u001b[39mstrategy\u001b[39m.\u001b[39mevaluate(\u001b[39m0\u001b[39m, parameters\u001b[39m=\u001b[39m\u001b[39mself\u001b[39m\u001b[39m.\u001b[39mparameters)\n",
            "File \u001b[0;32m~/.pyenv/versions/3.10.2/lib/python3.10/site-packages/flwr/server/server.py:273\u001b[0m, in \u001b[0;36mServer._get_initial_parameters\u001b[0;34m(self, timeout)\u001b[0m\n\u001b[1;32m    271\u001b[0m random_client \u001b[39m=\u001b[39m \u001b[39mself\u001b[39m\u001b[39m.\u001b[39m_client_manager\u001b[39m.\u001b[39msample(\u001b[39m1\u001b[39m)[\u001b[39m0\u001b[39m]\n\u001b[1;32m    272\u001b[0m ins \u001b[39m=\u001b[39m GetParametersIns(config\u001b[39m=\u001b[39m{})\n\u001b[0;32m--> 273\u001b[0m get_parameters_res \u001b[39m=\u001b[39m random_client\u001b[39m.\u001b[39;49mget_parameters(ins\u001b[39m=\u001b[39;49mins, timeout\u001b[39m=\u001b[39;49mtimeout)\n\u001b[1;32m    274\u001b[0m log(INFO, \u001b[39m\"\u001b[39m\u001b[39mReceived initial parameters from one random client\u001b[39m\u001b[39m\"\u001b[39m)\n\u001b[1;32m    275\u001b[0m \u001b[39mreturn\u001b[39;00m get_parameters_res\u001b[39m.\u001b[39mparameters\n",
            "File \u001b[0;32m~/.pyenv/versions/3.10.2/lib/python3.10/site-packages/flwr/simulation/ray_transport/ray_client_proxy.py:57\u001b[0m, in \u001b[0;36mRayClientProxy.get_parameters\u001b[0;34m(self, ins, timeout)\u001b[0m\n\u001b[1;32m     53\u001b[0m \u001b[39m\"\"\"Return the current local model parameters.\"\"\"\u001b[39;00m\n\u001b[1;32m     54\u001b[0m future_paramseters_res \u001b[39m=\u001b[39m launch_and_get_parameters\u001b[39m.\u001b[39moptions(  \u001b[39m# type: ignore\u001b[39;00m\n\u001b[1;32m     55\u001b[0m     \u001b[39m*\u001b[39m\u001b[39m*\u001b[39m\u001b[39mself\u001b[39m\u001b[39m.\u001b[39mresources,\n\u001b[1;32m     56\u001b[0m )\u001b[39m.\u001b[39mremote(\u001b[39mself\u001b[39m\u001b[39m.\u001b[39mclient_fn, \u001b[39mself\u001b[39m\u001b[39m.\u001b[39mcid, ins)\n\u001b[0;32m---> 57\u001b[0m res \u001b[39m=\u001b[39m ray\u001b[39m.\u001b[39;49mworker\u001b[39m.\u001b[39;49mget(future_paramseters_res, timeout\u001b[39m=\u001b[39;49mtimeout)\n\u001b[1;32m     58\u001b[0m \u001b[39mreturn\u001b[39;00m cast(\n\u001b[1;32m     59\u001b[0m     common\u001b[39m.\u001b[39mGetParametersRes,\n\u001b[1;32m     60\u001b[0m     res,\n\u001b[1;32m     61\u001b[0m )\n",
            "File \u001b[0;32m~/.pyenv/versions/3.10.2/lib/python3.10/site-packages/ray/_private/client_mode_hook.py:105\u001b[0m, in \u001b[0;36mclient_mode_hook.<locals>.wrapper\u001b[0;34m(*args, **kwargs)\u001b[0m\n\u001b[1;32m    103\u001b[0m     \u001b[39mif\u001b[39;00m func\u001b[39m.\u001b[39m\u001b[39m__name__\u001b[39m \u001b[39m!=\u001b[39m \u001b[39m\"\u001b[39m\u001b[39minit\u001b[39m\u001b[39m\"\u001b[39m \u001b[39mor\u001b[39;00m is_client_mode_enabled_by_default:\n\u001b[1;32m    104\u001b[0m         \u001b[39mreturn\u001b[39;00m \u001b[39mgetattr\u001b[39m(ray, func\u001b[39m.\u001b[39m\u001b[39m__name__\u001b[39m)(\u001b[39m*\u001b[39margs, \u001b[39m*\u001b[39m\u001b[39m*\u001b[39mkwargs)\n\u001b[0;32m--> 105\u001b[0m \u001b[39mreturn\u001b[39;00m func(\u001b[39m*\u001b[39;49margs, \u001b[39m*\u001b[39;49m\u001b[39m*\u001b[39;49mkwargs)\n",
            "File \u001b[0;32m~/.pyenv/versions/3.10.2/lib/python3.10/site-packages/ray/worker.py:1831\u001b[0m, in \u001b[0;36mget\u001b[0;34m(object_refs, timeout)\u001b[0m\n\u001b[1;32m   1829\u001b[0m     worker\u001b[39m.\u001b[39mcore_worker\u001b[39m.\u001b[39mdump_object_store_memory_usage()\n\u001b[1;32m   1830\u001b[0m \u001b[39mif\u001b[39;00m \u001b[39misinstance\u001b[39m(value, RayTaskError):\n\u001b[0;32m-> 1831\u001b[0m     \u001b[39mraise\u001b[39;00m value\u001b[39m.\u001b[39mas_instanceof_cause()\n\u001b[1;32m   1832\u001b[0m \u001b[39melse\u001b[39;00m:\n\u001b[1;32m   1833\u001b[0m     \u001b[39mraise\u001b[39;00m value\n",
            "\u001b[0;31mRayTaskError(ValueError)\u001b[0m: \u001b[36mray::launch_and_get_parameters()\u001b[39m (pid=2605, ip=172.17.38.32)\n  File \"/home/alex/.pyenv/versions/3.10.2/lib/python3.10/site-packages/flwr/simulation/ray_transport/ray_client_proxy.py\", line 109, in launch_and_get_parameters\n    return client.get_parameters(get_parameters_ins)\n  File \"/home/alex/.pyenv/versions/3.10.2/lib/python3.10/site-packages/flwr/client/app.py\", line 239, in _get_parameters\n    parameters_proto = ndarrays_to_parameters(parameters)\n  File \"/home/alex/.pyenv/versions/3.10.2/lib/python3.10/site-packages/flwr/common/parameter.py\", line 28, in ndarrays_to_parameters\n    tensors = [ndarray_to_bytes(ndarray) for ndarray in ndarrays]\n  File \"/home/alex/.pyenv/versions/3.10.2/lib/python3.10/site-packages/flwr/common/parameter.py\", line 28, in <listcomp>\n    tensors = [ndarray_to_bytes(ndarray) for ndarray in ndarrays]\n  File \"/home/alex/.pyenv/versions/3.10.2/lib/python3.10/site-packages/flwr/common/parameter.py\", line 43, in ndarray_to_bytes\n    np.save(bytes_io, ndarray, allow_pickle=False)  # type: ignore\n  File \"<__array_function__ internals>\", line 180, in save\n  File \"/home/alex/.pyenv/versions/3.10.2/lib/python3.10/site-packages/numpy/lib/npyio.py\", line 519, in save\n    format.write_array(fid, arr, allow_pickle=allow_pickle,\n  File \"/home/alex/.pyenv/versions/3.10.2/lib/python3.10/site-packages/numpy/lib/format.py\", line 675, in write_array\n    raise ValueError(\"Object arrays cannot be saved when \"\nValueError: Object arrays cannot be saved when allow_pickle=False"
          ]
        }
      ],
      "source": [
        "# Create FedAvg strategy\n",
        "strategy = FedAvg(\n",
        "    fraction_fit=1.0,  # Sample 100% of available clients for training\n",
        "    fraction_evaluate=0.5,  # Sample 50% of available clients for evaluation\n",
        "    min_fit_clients=10,  # Never sample less than 10 clients for training\n",
        "    min_evaluate_clients=5,  # Never sample less than 5 clients for evaluation\n",
        "    min_available_clients=10,  # Wait until all 10 clients are available\n",
        ")\n",
        "\n",
        "# Start simulation\n",
        "start_simulation(\n",
        "    client_fn=client_fn,\n",
        "    num_clients=NUM_CLIENTS,\n",
        "    config=fl.server.ServerConfig(num_rounds=5),\n",
        "    strategy=strategy,\n",
        ")\n"
      ]
    },
    {
      "cell_type": "markdown",
      "metadata": {
        "id": "e_lIXlErb9qN"
      },
      "source": [
        "### Behind the scenes\n",
        "\n",
        "So how does this work? How does Flower execute this simulation?\n",
        "\n",
        "When we call `start_simulation`, we tell Flower that there are 10 clients (`num_clients=10`). Flower then goes ahead an asks the `FedAvg` strategy to select clients. `FedAvg` knows that it should select 100% of the available clients (`fraction_fit=1.0`), so it goes ahead and selects 10 random clients (i.e., 100% of 10).\n",
        "\n",
        "Flower then asks the selected 10 clients to train the model. When the server receives the model parameter updates from the clients, it hands those updates over to the strategy (*FedAvg*) for aggregation. The strategy aggregates those updates and returns the new global model, which then gets used in the next round of federated learning."
      ]
    },
    {
      "cell_type": "markdown",
      "metadata": {},
      "source": [
        "### Where's the accuracy?\n",
        "\n",
        "You may have noticed that all metrics except for `losses_distributed` are empty. Where did the `{\"accuracy\": float(accuracy)}` go?\n",
        "\n",
        "Flower can automatically aggregate losses returned by individual clients, but it cannot do the same for metrics in the generic metrics dictionary (the one with the `accuracy` key). Metrics dictionaries can contain very different kinds of metrics and even key/value pairs that are not metrics at all, so the framework does not (and can not) know how to handle these automatically.\n",
        "\n",
        "As users, we need to tell the framework how to handle/aggregate these custom metrics, and we do so by passing metric aggregation functions to the strategy. The strategy will then call these functions whenever it receives fit or evaluate metrics from clients. The two possible functions are `fit_metrics_aggregation_fn` and `evaluate_metrics_aggregation_fn`.\n",
        "\n",
        "Let's create a simple weighted averaging function to aggregate the `accuracy` metric we return from `evaluate`:"
      ]
    },
    {
      "cell_type": "code",
      "execution_count": null,
      "metadata": {},
      "outputs": [],
      "source": [
        "def weighted_average(metrics: List[Tuple[int, Metrics]]) -> Metrics:\n",
        "    # Multiply accuracy of each client by number of examples used\n",
        "    accuracies = [num_examples * m[\"accuracy\"] for num_examples, m in metrics]\n",
        "    examples = [num_examples for num_examples, _ in metrics]\n",
        "    \n",
        "    # Aggregate and return custom metric (weighted average)\n",
        "    return {\"accuracy\": sum(accuracies) / sum(examples)}"
      ]
    },
    {
      "cell_type": "markdown",
      "metadata": {},
      "source": [
        "The only thing left to do is to tell the strategy to call this function whenever it receives evaluation metric dictionaries from the clients:"
      ]
    },
    {
      "cell_type": "code",
      "execution_count": null,
      "metadata": {},
      "outputs": [],
      "source": [
        "# Create FedAvg strategy\n",
        "strategy = FedAvg(\n",
        "        fraction_fit=1.0,\n",
        "        fraction_evaluate=0.5,\n",
        "        min_fit_clients=10,\n",
        "        min_evaluate_clients=5,\n",
        "        min_available_clients=10,\n",
        "        evaluate_metrics_aggregation_fn=weighted_average,  # <-- pass the metric aggregation function\n",
        ")\n",
        "\n",
        "# Start simulation\n",
        "history = start_simulation(\n",
        "    client_fn=client_fn,\n",
        "    num_clients=NUM_CLIENTS,\n",
        "    config=fl.server.ServerConfig(num_rounds=5),\n",
        "    strategy=strategy,\n",
        ")\n",
        "print(history)"
      ]
    },
    {
      "cell_type": "markdown",
      "metadata": {},
      "source": [
        "We now have a full system that performs federated training and federated evaluation. It uses the `weighted_average` function to aggregate custom evaluation metrics and calculates a single `accuracy` metric across all clients on the server side.\n",
        "\n",
        "The other two categories of metrics (`losses_centralized` and `metrics_centralized`) are still empty because they only apply when centralized evaluation is being used. Part two of the Flower tutorial will cover centralized evaluation."
      ]
    },
    {
      "cell_type": "markdown",
      "metadata": {
        "id": "umvwX56Of3Cr"
      },
      "source": [
        "## Final remarks\n",
        "\n",
        "Congratulations, you just trained a neural network, federated over 10 clients!\n",
        "With that, you understand the basics of federated learning with Flower. The same\n",
        "approach you've seen can be used with other machine learning frameworks like\n",
        "PyTorch or TensorFlow, and can be run for real on distributed client devices."
      ]
    }
  ],
  "metadata": {
    "accelerator": "GPU",
    "colab": {
      "collapsed_sections": [],
      "name": "Flower-1-Intro-to-FL-PyTorch.ipynb",
      "provenance": [],
      "toc_visible": true
    },
    "kernelspec": {
      "display_name": "Python 3.10.2 64-bit ('3.10.2')",
      "language": "python",
      "name": "python3"
    },
    "language_info": {
      "codemirror_mode": {
        "name": "ipython",
        "version": 3
      },
      "file_extension": ".py",
      "mimetype": "text/x-python",
      "name": "python",
      "nbconvert_exporter": "python",
      "pygments_lexer": "ipython3",
      "version": "3.10.2"
    },
    "vscode": {
      "interpreter": {
        "hash": "e91b11cb70a8a54f4dc4cfa7d068ead2808e7bd6238931b69a30c8c1a41601f9"
      }
    }
  },
  "nbformat": 4,
  "nbformat_minor": 0
}
