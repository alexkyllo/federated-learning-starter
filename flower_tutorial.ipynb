{
  "cells": [
    {
      "cell_type": "markdown",
      "metadata": {
        "id": "cz71fPGrpRiQ"
      },
      "source": [
        "# Intro to Federated Learning with Flower and Keras\n",
        "\n",
        "Alex Kyllo 2022-10-29\n",
        "\n",
        "In this notebook, we'll build a simulated federated learning system using Flower\n",
        "and Keras.\n",
        "\n",
        "In a production FL environment, you would have a central server communicating\n",
        "with many clients on different machines (like smartphones) over the network, but\n",
        "Flower provides a simulation framework so that you can run a whole FL environment\n",
        "locally, even in a Jupyter notebook like this.\n",
        "\n",
        "Let's get started! 🌻"
      ]
    },
    {
      "cell_type": "markdown",
      "metadata": {
        "id": "mBu1HRRY6bwX"
      },
      "source": [
        "## Part 0: Setup\n"
      ]
    },
    {
      "cell_type": "markdown",
      "metadata": {
        "id": "D4KiTMTpiort"
      },
      "source": [
        "### Installing dependencies\n",
        "\n",
        "First, let's install Python packages we need to run the notebook:"
      ]
    },
    {
      "cell_type": "code",
      "execution_count": 1,
      "metadata": {
        "id": "eTrCL2FmC5U5"
      },
      "outputs": [
        {
          "name": "stdout",
          "output_type": "stream",
          "text": [
            "Requirement already satisfied: flwr[simulation] in /home/alex/.pyenv/versions/3.10.2/lib/python3.10/site-packages (1.0.0)\n",
            "Requirement already satisfied: tensorflow in /home/alex/.pyenv/versions/3.10.2/lib/python3.10/site-packages (2.10.0)\n",
            "Requirement already satisfied: numpy in /home/alex/.pyenv/versions/3.10.2/lib/python3.10/site-packages (1.22.3)\n",
            "Requirement already satisfied: matplotlib in /home/alex/.pyenv/versions/3.10.2/lib/python3.10/site-packages (3.5.2)\n",
            "Requirement already satisfied: protobuf<4.0.0,>=3.19.0 in /home/alex/.pyenv/versions/3.10.2/lib/python3.10/site-packages (from flwr[simulation]) (3.19.6)\n",
            "Requirement already satisfied: grpcio<2.0.0,>=1.43.0 in /home/alex/.pyenv/versions/3.10.2/lib/python3.10/site-packages (from flwr[simulation]) (1.43.0)\n",
            "Requirement already satisfied: iterators<0.0.3,>=0.0.2 in /home/alex/.pyenv/versions/3.10.2/lib/python3.10/site-packages (from flwr[simulation]) (0.0.2)\n",
            "Requirement already satisfied: ray[default]<1.14.0,>=1.13.0 in /home/alex/.pyenv/versions/3.10.2/lib/python3.10/site-packages (from flwr[simulation]) (1.13.0)\n",
            "Requirement already satisfied: wrapt>=1.11.0 in /home/alex/.pyenv/versions/3.10.2/lib/python3.10/site-packages (from tensorflow) (1.14.0)\n",
            "Requirement already satisfied: astunparse>=1.6.0 in /home/alex/.pyenv/versions/3.10.2/lib/python3.10/site-packages (from tensorflow) (1.6.3)\n",
            "Requirement already satisfied: tensorboard<2.11,>=2.10 in /home/alex/.pyenv/versions/3.10.2/lib/python3.10/site-packages (from tensorflow) (2.10.1)\n",
            "Requirement already satisfied: absl-py>=1.0.0 in /home/alex/.pyenv/versions/3.10.2/lib/python3.10/site-packages (from tensorflow) (1.3.0)\n",
            "Requirement already satisfied: tensorflow-io-gcs-filesystem>=0.23.1 in /home/alex/.pyenv/versions/3.10.2/lib/python3.10/site-packages (from tensorflow) (0.27.0)\n",
            "Requirement already satisfied: keras-preprocessing>=1.1.1 in /home/alex/.pyenv/versions/3.10.2/lib/python3.10/site-packages (from tensorflow) (1.1.2)\n",
            "Requirement already satisfied: setuptools in /home/alex/.pyenv/versions/3.10.2/lib/python3.10/site-packages (from tensorflow) (58.1.0)\n",
            "Requirement already satisfied: keras<2.11,>=2.10.0 in /home/alex/.pyenv/versions/3.10.2/lib/python3.10/site-packages (from tensorflow) (2.10.0)\n",
            "Requirement already satisfied: typing-extensions>=3.6.6 in /home/alex/.pyenv/versions/3.10.2/lib/python3.10/site-packages (from tensorflow) (4.3.0)\n",
            "Requirement already satisfied: packaging in /home/alex/.pyenv/versions/3.10.2/lib/python3.10/site-packages (from tensorflow) (21.3)\n",
            "Requirement already satisfied: h5py>=2.9.0 in /home/alex/.pyenv/versions/3.10.2/lib/python3.10/site-packages (from tensorflow) (3.7.0)\n",
            "Requirement already satisfied: opt-einsum>=2.3.2 in /home/alex/.pyenv/versions/3.10.2/lib/python3.10/site-packages (from tensorflow) (3.3.0)\n",
            "Requirement already satisfied: termcolor>=1.1.0 in /home/alex/.pyenv/versions/3.10.2/lib/python3.10/site-packages (from tensorflow) (2.1.0)\n",
            "Requirement already satisfied: google-pasta>=0.1.1 in /home/alex/.pyenv/versions/3.10.2/lib/python3.10/site-packages (from tensorflow) (0.2.0)\n",
            "Requirement already satisfied: libclang>=13.0.0 in /home/alex/.pyenv/versions/3.10.2/lib/python3.10/site-packages (from tensorflow) (14.0.6)\n",
            "Requirement already satisfied: gast<=0.4.0,>=0.2.1 in /home/alex/.pyenv/versions/3.10.2/lib/python3.10/site-packages (from tensorflow) (0.4.0)\n",
            "Requirement already satisfied: flatbuffers>=2.0 in /home/alex/.pyenv/versions/3.10.2/lib/python3.10/site-packages (from tensorflow) (22.10.26)\n",
            "Requirement already satisfied: six>=1.12.0 in /home/alex/.pyenv/versions/3.10.2/lib/python3.10/site-packages (from tensorflow) (1.16.0)\n",
            "Requirement already satisfied: tensorflow-estimator<2.11,>=2.10.0 in /home/alex/.pyenv/versions/3.10.2/lib/python3.10/site-packages (from tensorflow) (2.10.0)\n",
            "Requirement already satisfied: pyparsing>=2.2.1 in /home/alex/.pyenv/versions/3.10.2/lib/python3.10/site-packages (from matplotlib) (3.0.7)\n",
            "Requirement already satisfied: kiwisolver>=1.0.1 in /home/alex/.pyenv/versions/3.10.2/lib/python3.10/site-packages (from matplotlib) (1.4.2)\n",
            "Requirement already satisfied: fonttools>=4.22.0 in /home/alex/.pyenv/versions/3.10.2/lib/python3.10/site-packages (from matplotlib) (4.33.3)\n",
            "Requirement already satisfied: cycler>=0.10 in /home/alex/.pyenv/versions/3.10.2/lib/python3.10/site-packages (from matplotlib) (0.11.0)\n",
            "Requirement already satisfied: pillow>=6.2.0 in /home/alex/.pyenv/versions/3.10.2/lib/python3.10/site-packages (from matplotlib) (9.1.1)\n",
            "Requirement already satisfied: python-dateutil>=2.7 in /home/alex/.pyenv/versions/3.10.2/lib/python3.10/site-packages (from matplotlib) (2.8.2)\n",
            "Requirement already satisfied: wheel<1.0,>=0.23.0 in /home/alex/.pyenv/versions/3.10.2/lib/python3.10/site-packages (from astunparse>=1.6.0->tensorflow) (0.37.1)\n",
            "Requirement already satisfied: filelock in /home/alex/.pyenv/versions/3.10.2/lib/python3.10/site-packages (from ray[default]<1.14.0,>=1.13.0->flwr[simulation]) (3.8.0)\n",
            "Requirement already satisfied: requests in /home/alex/.pyenv/versions/3.10.2/lib/python3.10/site-packages (from ray[default]<1.14.0,>=1.13.0->flwr[simulation]) (2.28.1)\n",
            "Requirement already satisfied: aiosignal in /home/alex/.pyenv/versions/3.10.2/lib/python3.10/site-packages (from ray[default]<1.14.0,>=1.13.0->flwr[simulation]) (1.2.0)\n",
            "Requirement already satisfied: attrs in /home/alex/.pyenv/versions/3.10.2/lib/python3.10/site-packages (from ray[default]<1.14.0,>=1.13.0->flwr[simulation]) (21.4.0)\n",
            "Requirement already satisfied: click<=8.0.4,>=7.0 in /home/alex/.pyenv/versions/3.10.2/lib/python3.10/site-packages (from ray[default]<1.14.0,>=1.13.0->flwr[simulation]) (8.0.4)\n",
            "Requirement already satisfied: jsonschema in /home/alex/.pyenv/versions/3.10.2/lib/python3.10/site-packages (from ray[default]<1.14.0,>=1.13.0->flwr[simulation]) (4.16.0)\n",
            "Requirement already satisfied: virtualenv in /home/alex/.pyenv/versions/3.10.2/lib/python3.10/site-packages (from ray[default]<1.14.0,>=1.13.0->flwr[simulation]) (20.16.6)\n",
            "Requirement already satisfied: msgpack<2.0.0,>=1.0.0 in /home/alex/.pyenv/versions/3.10.2/lib/python3.10/site-packages (from ray[default]<1.14.0,>=1.13.0->flwr[simulation]) (1.0.4)\n",
            "Requirement already satisfied: pyyaml in /home/alex/.pyenv/versions/3.10.2/lib/python3.10/site-packages (from ray[default]<1.14.0,>=1.13.0->flwr[simulation]) (6.0)\n",
            "Requirement already satisfied: frozenlist in /home/alex/.pyenv/versions/3.10.2/lib/python3.10/site-packages (from ray[default]<1.14.0,>=1.13.0->flwr[simulation]) (1.3.1)\n",
            "Requirement already satisfied: aiohttp-cors in /home/alex/.pyenv/versions/3.10.2/lib/python3.10/site-packages (from ray[default]<1.14.0,>=1.13.0->flwr[simulation]) (0.7.0)\n",
            "Requirement already satisfied: smart-open in /home/alex/.pyenv/versions/3.10.2/lib/python3.10/site-packages (from ray[default]<1.14.0,>=1.13.0->flwr[simulation]) (6.2.0)\n",
            "Requirement already satisfied: py-spy>=0.2.0 in /home/alex/.pyenv/versions/3.10.2/lib/python3.10/site-packages (from ray[default]<1.14.0,>=1.13.0->flwr[simulation]) (0.3.14)\n",
            "Requirement already satisfied: colorful in /home/alex/.pyenv/versions/3.10.2/lib/python3.10/site-packages (from ray[default]<1.14.0,>=1.13.0->flwr[simulation]) (0.5.4)\n",
            "Requirement already satisfied: aiohttp>=3.7 in /home/alex/.pyenv/versions/3.10.2/lib/python3.10/site-packages (from ray[default]<1.14.0,>=1.13.0->flwr[simulation]) (3.8.3)\n",
            "Requirement already satisfied: gpustat>=1.0.0b1 in /home/alex/.pyenv/versions/3.10.2/lib/python3.10/site-packages (from ray[default]<1.14.0,>=1.13.0->flwr[simulation]) (1.0.0)\n",
            "Requirement already satisfied: prometheus-client<0.14.0,>=0.7.1 in /home/alex/.pyenv/versions/3.10.2/lib/python3.10/site-packages (from ray[default]<1.14.0,>=1.13.0->flwr[simulation]) (0.13.1)\n",
            "Requirement already satisfied: opencensus in /home/alex/.pyenv/versions/3.10.2/lib/python3.10/site-packages (from ray[default]<1.14.0,>=1.13.0->flwr[simulation]) (0.11.0)\n",
            "Requirement already satisfied: werkzeug>=1.0.1 in /home/alex/.pyenv/versions/3.10.2/lib/python3.10/site-packages (from tensorboard<2.11,>=2.10->tensorflow) (2.2.2)\n",
            "Requirement already satisfied: tensorboard-plugin-wit>=1.6.0 in /home/alex/.pyenv/versions/3.10.2/lib/python3.10/site-packages (from tensorboard<2.11,>=2.10->tensorflow) (1.8.1)\n",
            "Requirement already satisfied: google-auth-oauthlib<0.5,>=0.4.1 in /home/alex/.pyenv/versions/3.10.2/lib/python3.10/site-packages (from tensorboard<2.11,>=2.10->tensorflow) (0.4.6)\n",
            "Requirement already satisfied: google-auth<3,>=1.6.3 in /home/alex/.pyenv/versions/3.10.2/lib/python3.10/site-packages (from tensorboard<2.11,>=2.10->tensorflow) (2.13.0)\n",
            "Requirement already satisfied: markdown>=2.6.8 in /home/alex/.pyenv/versions/3.10.2/lib/python3.10/site-packages (from tensorboard<2.11,>=2.10->tensorflow) (3.4.1)\n",
            "Requirement already satisfied: tensorboard-data-server<0.7.0,>=0.6.0 in /home/alex/.pyenv/versions/3.10.2/lib/python3.10/site-packages (from tensorboard<2.11,>=2.10->tensorflow) (0.6.1)\n",
            "Requirement already satisfied: async-timeout<5.0,>=4.0.0a3 in /home/alex/.pyenv/versions/3.10.2/lib/python3.10/site-packages (from aiohttp>=3.7->ray[default]<1.14.0,>=1.13.0->flwr[simulation]) (4.0.2)\n",
            "Requirement already satisfied: yarl<2.0,>=1.0 in /home/alex/.pyenv/versions/3.10.2/lib/python3.10/site-packages (from aiohttp>=3.7->ray[default]<1.14.0,>=1.13.0->flwr[simulation]) (1.8.1)\n",
            "Requirement already satisfied: charset-normalizer<3.0,>=2.0 in /home/alex/.pyenv/versions/3.10.2/lib/python3.10/site-packages (from aiohttp>=3.7->ray[default]<1.14.0,>=1.13.0->flwr[simulation]) (2.1.1)\n",
            "Requirement already satisfied: multidict<7.0,>=4.5 in /home/alex/.pyenv/versions/3.10.2/lib/python3.10/site-packages (from aiohttp>=3.7->ray[default]<1.14.0,>=1.13.0->flwr[simulation]) (6.0.2)\n",
            "Requirement already satisfied: rsa<5,>=3.1.4 in /home/alex/.pyenv/versions/3.10.2/lib/python3.10/site-packages (from google-auth<3,>=1.6.3->tensorboard<2.11,>=2.10->tensorflow) (4.9)\n",
            "Requirement already satisfied: cachetools<6.0,>=2.0.0 in /home/alex/.pyenv/versions/3.10.2/lib/python3.10/site-packages (from google-auth<3,>=1.6.3->tensorboard<2.11,>=2.10->tensorflow) (5.2.0)\n",
            "Requirement already satisfied: pyasn1-modules>=0.2.1 in /home/alex/.pyenv/versions/3.10.2/lib/python3.10/site-packages (from google-auth<3,>=1.6.3->tensorboard<2.11,>=2.10->tensorflow) (0.2.8)\n",
            "Requirement already satisfied: requests-oauthlib>=0.7.0 in /home/alex/.pyenv/versions/3.10.2/lib/python3.10/site-packages (from google-auth-oauthlib<0.5,>=0.4.1->tensorboard<2.11,>=2.10->tensorflow) (1.3.1)\n",
            "Requirement already satisfied: nvidia-ml-py<=11.495.46,>=11.450.129 in /home/alex/.pyenv/versions/3.10.2/lib/python3.10/site-packages (from gpustat>=1.0.0b1->ray[default]<1.14.0,>=1.13.0->flwr[simulation]) (11.495.46)\n",
            "Requirement already satisfied: psutil>=5.6.0 in /home/alex/.pyenv/versions/3.10.2/lib/python3.10/site-packages (from gpustat>=1.0.0b1->ray[default]<1.14.0,>=1.13.0->flwr[simulation]) (5.9.1)\n",
            "Requirement already satisfied: blessed>=1.17.1 in /home/alex/.pyenv/versions/3.10.2/lib/python3.10/site-packages (from gpustat>=1.0.0b1->ray[default]<1.14.0,>=1.13.0->flwr[simulation]) (1.19.1)\n",
            "Requirement already satisfied: certifi>=2017.4.17 in /home/alex/.pyenv/versions/3.10.2/lib/python3.10/site-packages (from requests->ray[default]<1.14.0,>=1.13.0->flwr[simulation]) (2022.6.15)\n",
            "Requirement already satisfied: urllib3<1.27,>=1.21.1 in /home/alex/.pyenv/versions/3.10.2/lib/python3.10/site-packages (from requests->ray[default]<1.14.0,>=1.13.0->flwr[simulation]) (1.26.12)\n",
            "Requirement already satisfied: idna<4,>=2.5 in /home/alex/.pyenv/versions/3.10.2/lib/python3.10/site-packages (from requests->ray[default]<1.14.0,>=1.13.0->flwr[simulation]) (3.3)\n",
            "Requirement already satisfied: MarkupSafe>=2.1.1 in /home/alex/.pyenv/versions/3.10.2/lib/python3.10/site-packages (from werkzeug>=1.0.1->tensorboard<2.11,>=2.10->tensorflow) (2.1.1)\n",
            "Requirement already satisfied: pyrsistent!=0.17.0,!=0.17.1,!=0.17.2,>=0.14.0 in /home/alex/.pyenv/versions/3.10.2/lib/python3.10/site-packages (from jsonschema->ray[default]<1.14.0,>=1.13.0->flwr[simulation]) (0.18.1)\n",
            "Requirement already satisfied: google-api-core<3.0.0,>=1.0.0 in /home/alex/.pyenv/versions/3.10.2/lib/python3.10/site-packages (from opencensus->ray[default]<1.14.0,>=1.13.0->flwr[simulation]) (2.10.2)\n",
            "Requirement already satisfied: opencensus-context>=0.1.3 in /home/alex/.pyenv/versions/3.10.2/lib/python3.10/site-packages (from opencensus->ray[default]<1.14.0,>=1.13.0->flwr[simulation]) (0.1.3)\n",
            "Requirement already satisfied: platformdirs<3,>=2.4 in /home/alex/.pyenv/versions/3.10.2/lib/python3.10/site-packages (from virtualenv->ray[default]<1.14.0,>=1.13.0->flwr[simulation]) (2.5.1)\n",
            "Requirement already satisfied: distlib<1,>=0.3.6 in /home/alex/.pyenv/versions/3.10.2/lib/python3.10/site-packages (from virtualenv->ray[default]<1.14.0,>=1.13.0->flwr[simulation]) (0.3.6)\n",
            "Requirement already satisfied: wcwidth>=0.1.4 in /home/alex/.pyenv/versions/3.10.2/lib/python3.10/site-packages (from blessed>=1.17.1->gpustat>=1.0.0b1->ray[default]<1.14.0,>=1.13.0->flwr[simulation]) (0.2.5)\n",
            "Requirement already satisfied: googleapis-common-protos<2.0dev,>=1.56.2 in /home/alex/.pyenv/versions/3.10.2/lib/python3.10/site-packages (from google-api-core<3.0.0,>=1.0.0->opencensus->ray[default]<1.14.0,>=1.13.0->flwr[simulation]) (1.56.4)\n",
            "Requirement already satisfied: pyasn1<0.5.0,>=0.4.6 in /home/alex/.pyenv/versions/3.10.2/lib/python3.10/site-packages (from pyasn1-modules>=0.2.1->google-auth<3,>=1.6.3->tensorboard<2.11,>=2.10->tensorflow) (0.4.8)\n",
            "Requirement already satisfied: oauthlib>=3.0.0 in /home/alex/.pyenv/versions/3.10.2/lib/python3.10/site-packages (from requests-oauthlib>=0.7.0->google-auth-oauthlib<0.5,>=0.4.1->tensorboard<2.11,>=2.10->tensorflow) (3.2.2)\n"
          ]
        }
      ],
      "source": [
        "!pip install flwr[simulation] tensorflow numpy matplotlib"
      ]
    },
    {
      "cell_type": "markdown",
      "metadata": {
        "id": "3UFT3_A3iz76"
      },
      "source": [
        "Now that we have the necessary packages installed, we can import everything we need for this tutorial:"
      ]
    },
    {
      "cell_type": "code",
      "execution_count": 12,
      "metadata": {
        "id": "Tja2N6l-qH-e"
      },
      "outputs": [
        {
          "name": "stdout",
          "output_type": "stream",
          "text": [
            "flwr 1.0.0\n",
            "numpy 1.22.3\n",
            "tensorflow 2.10.0\n"
          ]
        }
      ],
      "source": [
        "import os\n",
        "from collections import OrderedDict\n",
        "from typing import List, Tuple\n",
        "# Silence TF warnings\n",
        "os.environ[\"TF_CPP_MIN_LOG_LEVEL\"] = \"3\"\n",
        "\n",
        "import flwr as fl\n",
        "import matplotlib.pyplot as plt\n",
        "import numpy as np\n",
        "from flwr.common import Metrics\n",
        "from flwr.server.strategy import FedAvg\n",
        "from flwr.simulation import start_simulation\n",
        "\n",
        "import tensorflow as tf\n",
        "from tensorflow import keras\n",
        "from tensorflow.keras import layers\n",
        "\n",
        "print(\"flwr\", fl.__version__)\n",
        "print(\"numpy\", np.__version__)\n",
        "print(\"tensorflow\", tf.__version__)"
      ]
    },
    {
      "cell_type": "markdown",
      "metadata": {
        "id": "JVcgAAiaihnx"
      },
      "source": [
        "### Loading the data\n",
        "\n",
        "In this tutorial, we'll introduce federated learning by training a simple neural\n",
        "network on the MNIST handwritten digit recognition dataset, a well-known\n",
        "computer vision benchmark. The task is to recognize images of the digits 0-9."
      ]
    },
    {
      "cell_type": "markdown",
      "metadata": {
        "id": "toxAoOq6fS2h"
      },
      "source": [
        "We simulate having multiple users by splitting the dataset into partitions. Each\n",
        "partition will represent the data from a single user. We're doing this purely\n",
        "for experimentation purposes, in the real world there's no need for data\n",
        "splitting because each user already has their own data local to their device.\n",
        "Each user's device is a client, so having ten clients participate in a\n",
        "federation means having ten clients connected to the federated learning server."
      ]
    },
    {
      "cell_type": "code",
      "execution_count": 31,
      "metadata": {
        "id": "q9LhPFDh0S5c"
      },
      "outputs": [],
      "source": [
        "# Set some config variables\n",
        "NUM_CLIENTS = 5\n",
        "NUM_CLASSES = 10\n",
        "NUM_ROUNDS = 3\n",
        "INPUT_SHAPE = (28, 28, 1)\n",
        "BATCH_SIZE = 64\n",
        "EPOCHS = 10"
      ]
    },
    {
      "cell_type": "markdown",
      "metadata": {
        "id": "01Zy7yjBPhQd"
      },
      "source": [
        "Let's load the MNIST training and test set and partition them into ten smaller datasets (each split into training and validation set)."
      ]
    },
    {
      "cell_type": "code",
      "execution_count": 4,
      "metadata": {},
      "outputs": [],
      "source": [
        "(x_train, y_train), (x_test, y_test) = keras.datasets.mnist.load_data()"
      ]
    },
    {
      "cell_type": "code",
      "execution_count": 5,
      "metadata": {},
      "outputs": [],
      "source": [
        "x_train = x_train.astype(np.float32) / 255\n",
        "x_test = x_test.astype(np.float32) / 255\n",
        "x_train = np.expand_dims(x_train, -1)\n",
        "x_test = np.expand_dims(x_test, -1)\n",
        "y_train_onehot = keras.utils.to_categorical(y_train, NUM_CLASSES)\n",
        "y_test_onehot = keras.utils.to_categorical(y_test, NUM_CLASSES)\n",
        "# split data for clients\n",
        "x_train_splits = np.array_split(x_train, NUM_CLIENTS)\n",
        "y_train_splits = np.array_split(y_train_onehot, NUM_CLIENTS)\n",
        "x_test_splits = np.array_split(x_test, NUM_CLIENTS)\n",
        "y_test_splits = np.array_split(y_test_onehot, NUM_CLIENTS)\n",
        "data_splits = [((x, y), (xt, yt)) for (x, y, xt, yt) in zip(x_train_splits, y_train_splits, x_test_splits, y_test_splits)]\n"
      ]
    },
    {
      "cell_type": "markdown",
      "metadata": {},
      "source": [
        "Then let's plot a sample of the MNIST digits just to visualize the data we're\n",
        "using for the ML task."
      ]
    },
    {
      "cell_type": "code",
      "execution_count": 6,
      "metadata": {},
      "outputs": [
        {
          "data": {
            "image/png": "[encoded data removed]",
            "text/plain": [
              "<Figure size 432x288 with 10 Axes>"
            ]
          },
          "metadata": {
            "needs_background": "light"
          },
          "output_type": "display_data"
        }
      ],
      "source": [
        "fig, ax = plt.subplots(2,5)\n",
        "for i, ax in enumerate(ax.flatten()):\n",
        "    im_idx = np.argwhere(y_train == i)[0,0]\n",
        "    plottable_image = np.reshape(x_train[im_idx], (28, 28))\n",
        "    ax.imshow(plottable_image, cmap='gray_r')"
      ]
    },
    {
      "cell_type": "markdown",
      "metadata": {
        "id": "4TW4Pzb7p1F9"
      },
      "source": [
        "## Part 1: Centralized Training\n",
        "\n"
      ]
    },
    {
      "cell_type": "markdown",
      "metadata": {
        "id": "cTjCmmBtqPgM"
      },
      "source": [
        "Next, we're going to define a simple model and train it locally on one of the\n",
        "ten client splits.\n"
      ]
    },
    {
      "cell_type": "markdown",
      "metadata": {
        "id": "XYks8IpJL6iK"
      },
      "source": [
        "### Defining the model\n"
      ]
    },
    {
      "cell_type": "code",
      "execution_count": 29,
      "metadata": {
        "id": "2X3cVBXMpP6w"
      },
      "outputs": [
        {
          "name": "stdout",
          "output_type": "stream",
          "text": [
            "Model: \"sequential_9\"\n",
            "_________________________________________________________________\n",
            " Layer (type)                Output Shape              Param #   \n",
            "=================================================================\n",
            " dense_27 (Dense)            (None, 28, 28, 8)         16        \n",
            "                                                                 \n",
            " dense_28 (Dense)            (None, 28, 28, 4)         36        \n",
            "                                                                 \n",
            " flatten_9 (Flatten)         (None, 3136)              0         \n",
            "                                                                 \n",
            " dense_29 (Dense)            (None, 10)                31370     \n",
            "                                                                 \n",
            "=================================================================\n",
            "Total params: 31,422\n",
            "Trainable params: 31,422\n",
            "Non-trainable params: 0\n",
            "_________________________________________________________________\n"
          ]
        }
      ],
      "source": [
        "def build_model():\n",
        "    model = keras.Sequential(\n",
        "        [\n",
        "            keras.Input(shape=INPUT_SHAPE),\n",
        "            # Comment out the two Dense layers\n",
        "            # and uncomment the Conv2D and MaxPooling layers layers if you want a CNN\n",
        "            layers.Dense(8, activation=\"relu\"),\n",
        "            layers.Dense(4, activation=\"relu\"),\n",
        "            # layers.Conv2D(32, kernel_size=(3, 3), activation=\"relu\"),\n",
        "            # layers.MaxPooling2D(pool_size=(2, 2)),\n",
        "            # layers.Conv2D(64, kernel_size=(3, 3), activation=\"relu\"),\n",
        "            # layers.MaxPooling2D(pool_size=(2, 2)),\n",
        "            layers.Flatten(),\n",
        "            # layers.Dropout(0.5),\n",
        "            layers.Dense(NUM_CLASSES, activation=\"softmax\"),\n",
        "        ]\n",
        "    )\n",
        "    model.compile(loss=\"categorical_crossentropy\", optimizer=keras.optimizers.Adam(learning_rate=0.0005), metrics=[\"accuracy\"])\n",
        "    return model\n",
        "\n",
        "\n",
        "model = build_model()\n",
        "model.summary()"
      ]
    },
    {
      "cell_type": "code",
      "execution_count": 30,
      "metadata": {},
      "outputs": [
        {
          "name": "stdout",
          "output_type": "stream",
          "text": [
            "Epoch 1/20\n",
            "169/169 [==============================] - 2s 8ms/step - loss: 1.0859 - accuracy: 0.7510 - val_loss: 0.5487 - val_accuracy: 0.8708\n",
            "Epoch 2/20\n",
            "169/169 [==============================] - 1s 7ms/step - loss: 0.4463 - accuracy: 0.8836 - val_loss: 0.3926 - val_accuracy: 0.9008\n",
            "Epoch 3/20\n",
            "169/169 [==============================] - 1s 8ms/step - loss: 0.3507 - accuracy: 0.9035 - val_loss: 0.3458 - val_accuracy: 0.9017\n",
            "Epoch 4/20\n",
            "169/169 [==============================] - 1s 7ms/step - loss: 0.3107 - accuracy: 0.9132 - val_loss: 0.3239 - val_accuracy: 0.9067\n",
            "Epoch 5/20\n",
            "169/169 [==============================] - 1s 7ms/step - loss: 0.2839 - accuracy: 0.9209 - val_loss: 0.3155 - val_accuracy: 0.9150\n",
            "Epoch 6/20\n",
            "169/169 [==============================] - 1s 8ms/step - loss: 0.2678 - accuracy: 0.9262 - val_loss: 0.3043 - val_accuracy: 0.9117\n",
            "Epoch 7/20\n",
            "169/169 [==============================] - 1s 8ms/step - loss: 0.2522 - accuracy: 0.9296 - val_loss: 0.3021 - val_accuracy: 0.9150\n",
            "Epoch 8/20\n",
            "169/169 [==============================] - 2s 9ms/step - loss: 0.2410 - accuracy: 0.9331 - val_loss: 0.2917 - val_accuracy: 0.9192\n",
            "Epoch 9/20\n",
            "169/169 [==============================] - 1s 8ms/step - loss: 0.2315 - accuracy: 0.9356 - val_loss: 0.2901 - val_accuracy: 0.9158\n",
            "Epoch 10/20\n",
            "169/169 [==============================] - 1s 8ms/step - loss: 0.2226 - accuracy: 0.9364 - val_loss: 0.2917 - val_accuracy: 0.9125\n",
            "Epoch 11/20\n",
            "169/169 [==============================] - 1s 8ms/step - loss: 0.2151 - accuracy: 0.9393 - val_loss: 0.2891 - val_accuracy: 0.9217\n",
            "Epoch 12/20\n",
            "169/169 [==============================] - 1s 8ms/step - loss: 0.2083 - accuracy: 0.9402 - val_loss: 0.3058 - val_accuracy: 0.9108\n",
            "Epoch 13/20\n",
            "169/169 [==============================] - 2s 10ms/step - loss: 0.2022 - accuracy: 0.9422 - val_loss: 0.3003 - val_accuracy: 0.9175\n",
            "Epoch 14/20\n",
            "169/169 [==============================] - 1s 8ms/step - loss: 0.1970 - accuracy: 0.9441 - val_loss: 0.2918 - val_accuracy: 0.9200\n",
            "Epoch 15/20\n",
            "169/169 [==============================] - 1s 8ms/step - loss: 0.1910 - accuracy: 0.9454 - val_loss: 0.2927 - val_accuracy: 0.9208\n",
            "Epoch 16/20\n",
            "169/169 [==============================] - 1s 9ms/step - loss: 0.1853 - accuracy: 0.9487 - val_loss: 0.2977 - val_accuracy: 0.9183\n",
            "Epoch 17/20\n",
            "169/169 [==============================] - 1s 8ms/step - loss: 0.1830 - accuracy: 0.9475 - val_loss: 0.3007 - val_accuracy: 0.9200\n",
            "Epoch 18/20\n",
            "169/169 [==============================] - 1s 8ms/step - loss: 0.1776 - accuracy: 0.9503 - val_loss: 0.3031 - val_accuracy: 0.9192\n",
            "Epoch 19/20\n",
            "169/169 [==============================] - 1s 8ms/step - loss: 0.1726 - accuracy: 0.9516 - val_loss: 0.3227 - val_accuracy: 0.9167\n",
            "Epoch 20/20\n",
            "169/169 [==============================] - 2s 10ms/step - loss: 0.1685 - accuracy: 0.9518 - val_loss: 0.3303 - val_accuracy: 0.9133\n"
          ]
        },
        {
          "data": {
            "text/plain": [
              "<keras.callbacks.History at 0x7f57b1baab30>"
            ]
          },
          "execution_count": 30,
          "metadata": {},
          "output_type": "execute_result"
        }
      ],
      "source": [
        "(x_train_0, y_train_0), (x_test_0, y_test_0) = data_splits[0]\n",
        "model.fit(x_train_0, y_train_0, batch_size=BATCH_SIZE, epochs=EPOCHS, validation_split=0.1)"
      ]
    },
    {
      "cell_type": "markdown",
      "metadata": {
        "id": "DhLGLdmhOhVr"
      },
      "source": [
        "Now that we've covered the local model fitting process, let's take a look at how\n",
        "this would work in federated learning!"
      ]
    },
    {
      "cell_type": "markdown",
      "metadata": {
        "id": "a6HP2cYCsqxD"
      },
      "source": [
        "## Part 2: Federated Learning with Flower\n",
        "\n",
        "Part 1 demonstrated a simple centralized training pipeline. Next, we'll simulate\n",
        "a situation where we have multiple datasets across multiple devices and where we\n",
        "train a model over these devices using federated learning."
      ]
    },
    {
      "cell_type": "markdown",
      "metadata": {
        "id": "mf-cW093MzeT"
      },
      "source": [
        "### Updating model parameters\n",
        "\n",
        "In federated learning, the server sends the global model parameters to the client, and the client updates the local model with the parameters received from the server. It then trains the model on the local data (which changes the model parameters locally) and sends the updated/changed model parameters back to the server (or, alternatively, it sends just the gradients back to the server, not the full model parameters).\n"
      ]
    },
    {
      "cell_type": "markdown",
      "metadata": {
        "id": "1lCf3oljdClM"
      },
      "source": [
        "### Implementing a Flower client\n",
        "\n",
        "With that out of the way, let's move on to the interesting part. Federated learning systems consist of a server and multiple clients. In Flower, we create clients by implementing subclasses of `flwr.client.Client` or `flwr.client.NumPyClient`. We use `NumPyClient` in this tutorial because it is easier to implement and requires us to write less boilerplate.\n",
        "\n",
        "To implement the Flower client, we create a subclass of `flwr.client.NumPyClient` and implement the three methods `get_parameters`, `fit`, and `evaluate`:\n",
        "\n",
        "* `get_parameters`: Return the current local model parameters\n",
        "* `fit`: Receive model parameters from the server, train the model parameters on the local data, and return the (updated) model parameters to the server\n",
        "* `evaluate`: Receive model parameters from the server, evaluate the model parameters on the local data, and return the evaluation result to the server\n",
        "\n",
        "Let's see a simple Flower client implementation that brings everything together:"
      ]
    },
    {
      "cell_type": "code",
      "execution_count": 9,
      "metadata": {
        "id": "ye6Jt5p3LWtF"
      },
      "outputs": [],
      "source": [
        "class FlowerClient(fl.client.NumPyClient):\n",
        "    def __init__(self, model, cid, train_data, test_data, epochs, batch_size):\n",
        "        self.model = model\n",
        "        self.cid = int(cid)\n",
        "        self.x_train, self.y_train = train_data\n",
        "        self.x_test, self.y_test = test_data\n",
        "        self.epochs = epochs\n",
        "        self.batch_size = batch_size\n",
        "\n",
        "    def get_parameters(self, config):\n",
        "        return self.model.get_weights()\n",
        "    \n",
        "    def fit(self, parameters, config):\n",
        "        self.model.set_weights(parameters)\n",
        "        self.model.fit(self.x_train, self.y_train, epochs=self.epochs, batch_size=self.batch_size)\n",
        "        return self.model.get_weights(), len(self.x_train), {}\n",
        "\n",
        "    def evaluate(self, parameters, config):\n",
        "        self.model.set_weights(parameters)\n",
        "        loss, accuracy = self.model.evaluate(self.x_test, self.y_test)\n",
        "        return loss, len(self.x_test), {\"accuracy\": float(accuracy)}"
      ]
    },
    {
      "cell_type": "markdown",
      "metadata": {
        "id": "Heyxd9MfHOTe"
      },
      "source": [
        "Our class `FlowerClient` defines how local training/evaluation will be performed and allows Flower to call the local training/evaluation through `fit` and `evaluate`. Each instance of `FlowerClient` represents a *single client* in our federated learning system. Federated learning systems have multiple clients (otherwise there's not much to federate), so each client will be represented by its own instance of `FlowerClient`. If we have, for example, three clients in our workload, then we'd have three instances of `FlowerClient`. Flower calls `FlowerClient.fit` on the respective instance when the server selects a particular client for training (and `FlowerClient.evaluate` for evaluation).\n",
        "\n",
        "### Using the Virtual Client Engine\n",
        "\n",
        "In this notebook, we want to simulate a federated learning system with 10 clients on a single machine. This means that the server and all 10 clients will live on a single machine and share resources such as CPU, GPU, and memory. Having 10 clients would mean having 10 instances of `FlowerClient` im memory. Doing this on a single machine can quickly exhaust the available memory resources, even if only a subset of these clients participates in a single round of federated learning.\n",
        "\n",
        "In addition to the regular capabilities where server and clients run on multiple machines, Flower therefore provides special simulation capabilities that create `FlowerClient` instances only when they are actually necessary for training or evaluation. To enable the Flower framework to create clients when necessary, we need to implement a function called `client_fn` that creates a `FlowerClient` instance on demand. Flower calls `client_fn` whenever it needs an instance of one particular client to call `fit` or `evaluate` (those instances are usually discarded after use, so they should not keep any local state). Clients are identified by a client ID, or short `cid`. The `cid` can be used, for example, to load different local data partitions for different clients, as can be seen below:"
      ]
    },
    {
      "cell_type": "code",
      "execution_count": 10,
      "metadata": {
        "id": "qkcwggRYOwWN"
      },
      "outputs": [],
      "source": [
        "def client_fn(cid: str) -> FlowerClient:\n",
        "    \"\"\"Create a Flower client representing a single organization.\"\"\"\n",
        "    print(f\"cid: {cid}\")\n",
        "    # Load data (MNIST) and\n",
        "    (x_train, y_train), (x_test, y_test) = data_splits[int(cid)]\n",
        "    # Create a single Flower client representing a single device\n",
        "    return FlowerClient(build_model(), cid, (x_train, y_train), (x_test, y_test), epochs=EPOCHS, batch_size=BATCH_SIZE)"
      ]
    },
    {
      "cell_type": "markdown",
      "metadata": {},
      "source": [
        "### Aggregate metrics\n",
        "\n",
        "Flower can automatically aggregate losses returned by individual clients, but it cannot do the same for metrics in the generic metrics dictionary (the one with the `accuracy` key). Metrics dictionaries can contain very different kinds of metrics and even key/value pairs that are not metrics at all, so the framework does not (and can not) know how to handle these automatically.\n",
        "\n",
        "As users, we need to tell the framework how to handle/aggregate these custom metrics, and we do so by passing metric aggregation functions to the strategy. The strategy will then call these functions whenever it receives fit or evaluate metrics from clients. The two possible functions are `fit_metrics_aggregation_fn` and `evaluate_metrics_aggregation_fn`.\n",
        "\n",
        "Let's create a simple weighted averaging function to aggregate the `accuracy` metric we return from `evaluate`:"
      ]
    },
    {
      "cell_type": "code",
      "execution_count": 11,
      "metadata": {},
      "outputs": [],
      "source": [
        "def weighted_average(metrics: List[Tuple[int, Metrics]]) -> Metrics:\n",
        "    # Multiply accuracy of each client by number of examples used\n",
        "    accuracies = [num_examples * m[\"accuracy\"] for num_examples, m in metrics]\n",
        "    examples = [num_examples for num_examples, _ in metrics]\n",
        "    \n",
        "    # Aggregate and return custom metric (weighted average)\n",
        "    return {\"accuracy\": sum(accuracies) / sum(examples)}"
      ]
    },
    {
      "cell_type": "markdown",
      "metadata": {
        "id": "axzXSMtlfhXU"
      },
      "source": [
        "### Starting the training\n",
        "\n",
        "We now have the class `FlowerClient` which defines client-side training/evaluation and `client_fn` which allows Flower to create `FlowerClient` instances whenever it needs to call `fit` or `evaluate` on one particular client. The last step is to start the actual simulation using `flwr.simulation.start_simulation`. \n",
        "\n",
        "The function `start_simulation` accepts a number of arguments, amongst them the `client_fn` used to create `FlowerClient` instances, the number of clients to simulate (`num_clients`), the number of federated learning rounds (`num_rounds`), and the strategy. The strategy encapsulates the federated learning approach/algorithm, for example, *Federated Averaging* (FedAvg).\n",
        "\n",
        "Flower has a number of built-in strategies, but we can also use our own strategy implementations to customize nearly all aspects of the federated learning approach. For this example, we use the built-in `FedAvg` implementation and customize it using a few basic parameters. The last step is the actual call to `start_simulation` which - you guessed it - starts the simulation:"
      ]
    },
    {
      "cell_type": "code",
      "execution_count": null,
      "metadata": {},
      "outputs": [],
      "source": [
        "# Create FedAvg strategy\n",
        "strategy = FedAvg(\n",
        "        fraction_fit=1.0,\n",
        "        fraction_evaluate=0.5,\n",
        "        min_fit_clients=10,\n",
        "        min_evaluate_clients=5,\n",
        "        min_available_clients=10,\n",
        "        evaluate_metrics_aggregation_fn=weighted_average,  # <-- pass the metric aggregation function\n",
        ")\n",
        "\n",
        "# Start simulation\n",
        "history = start_simulation(\n",
        "    client_fn=client_fn,\n",
        "    num_clients=NUM_CLIENTS,\n",
        "    config=fl.server.ServerConfig(num_rounds=5),\n",
        "    strategy=strategy,\n",
        ")"
      ]
    },
    {
      "cell_type": "markdown",
      "metadata": {
        "id": "e_lIXlErb9qN"
      },
      "source": [
        "### Behind the scenes\n",
        "\n",
        "So how does this work? How does Flower execute this simulation?\n",
        "\n",
        "When we call `start_simulation`, we tell Flower that there are 10 clients (`num_clients=10`). Flower then goes ahead an asks the `FedAvg` strategy to select clients. `FedAvg` knows that it should select 100% of the available clients (`fraction_fit=1.0`), so it goes ahead and selects 10 random clients (i.e., 100% of 10).\n",
        "\n",
        "Flower then asks the selected 10 clients to train the model. When the server receives the model parameter updates from the clients, it hands those updates over to the strategy (*FedAvg*) for aggregation. The strategy aggregates those updates and returns the new global model, which then gets used in the next round of federated learning."
      ]
    },
    {
      "cell_type": "markdown",
      "metadata": {},
      "source": [
        "We now have a full system that performs federated training and federated evaluation. It uses the `weighted_average` function to aggregate custom evaluation metrics and calculates a single `accuracy` metric across all clients on the server side.\n",
        "\n",
        "The other two categories of metrics (`losses_centralized` and `metrics_centralized`) are still empty because they only apply when centralized evaluation is being used."
      ]
    },
    {
      "cell_type": "markdown",
      "metadata": {
        "id": "umvwX56Of3Cr"
      },
      "source": [
        "## Final remarks\n",
        "\n",
        "Congratulations, you just trained a neural network, federated over 10 clients!\n",
        "With that, you understand the basics of federated learning with Flower. The same\n",
        "approach you've seen can be used with other machine learning frameworks like\n",
        "PyTorch or TensorFlow, and can be run for real on distributed client devices."
      ]
    }
  ],
  "metadata": {
    "accelerator": "GPU",
    "colab": {
      "collapsed_sections": [],
      "name": "Flower-1-Intro-to-FL-PyTorch.ipynb",
      "provenance": [],
      "toc_visible": true
    },
    "kernelspec": {
      "display_name": "Python 3.10.2 64-bit ('3.10.2')",
      "language": "python",
      "name": "python3"
    },
    "language_info": {
      "codemirror_mode": {
        "name": "ipython",
        "version": 3
      },
      "file_extension": ".py",
      "mimetype": "text/x-python",
      "name": "python",
      "nbconvert_exporter": "python",
      "pygments_lexer": "ipython3",
      "version": "3.10.2"
    },
    "vscode": {
      "interpreter": {
        "hash": "e91b11cb70a8a54f4dc4cfa7d068ead2808e7bd6238931b69a30c8c1a41601f9"
      }
    }
  },
  "nbformat": 4,
  "nbformat_minor": 0
}
